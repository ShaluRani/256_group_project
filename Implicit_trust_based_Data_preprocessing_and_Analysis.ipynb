{
 "cells": [
  {
   "cell_type": "code",
   "execution_count": 2,
   "metadata": {},
   "outputs": [],
   "source": [
    "''' Data Preprocessing and Analysis for Implicit Trust based recommendation system\n",
    "    developed by Priyanka Singhal\n",
    "'''\n",
    "#import libraries\n",
    "import numpy as np\n",
    "import pandas as pd\n",
    "import matplotlib.pyplot as plt"
   ]
  },
  {
   "cell_type": "markdown",
   "metadata": {},
   "source": [
    "# Step 1: Load the Epinions Dataset"
   ]
  },
  {
   "cell_type": "code",
   "execution_count": 3,
   "metadata": {},
   "outputs": [
    {
     "data": {
      "text/html": [
       "<div>\n",
       "<style scoped>\n",
       "    .dataframe tbody tr th:only-of-type {\n",
       "        vertical-align: middle;\n",
       "    }\n",
       "\n",
       "    .dataframe tbody tr th {\n",
       "        vertical-align: top;\n",
       "    }\n",
       "\n",
       "    .dataframe thead th {\n",
       "        text-align: right;\n",
       "    }\n",
       "</style>\n",
       "<table border=\"1\" class=\"dataframe\">\n",
       "  <thead>\n",
       "    <tr style=\"text-align: right;\">\n",
       "      <th></th>\n",
       "      <th>item</th>\n",
       "      <th>paid</th>\n",
       "      <th>review</th>\n",
       "      <th>stars</th>\n",
       "      <th>time</th>\n",
       "      <th>user</th>\n",
       "    </tr>\n",
       "  </thead>\n",
       "  <tbody>\n",
       "    <tr>\n",
       "      <th>0</th>\n",
       "      <td>Minolta_QMS_PagePro_1250E_Printers</td>\n",
       "      <td>260.0</td>\n",
       "      <td>i got this printer from minolta as a warranty ...</td>\n",
       "      <td>4</td>\n",
       "      <td>1027296000</td>\n",
       "      <td>fgb59h</td>\n",
       "    </tr>\n",
       "    <tr>\n",
       "      <th>1</th>\n",
       "      <td>Sony_VAIO_PCG_K45_P4_538_3_2GHz_1MB_L2_533MHz_...</td>\n",
       "      <td>1800.0</td>\n",
       "      <td>although i love my vaio especially the gorgeou...</td>\n",
       "      <td>2</td>\n",
       "      <td>1201305600</td>\n",
       "      <td>bucho_ky</td>\n",
       "    </tr>\n",
       "    <tr>\n",
       "      <th>2</th>\n",
       "      <td>Sony_VAIO_PCG_K45_P4_538_3_2GHz_1MB_L2_533MHz_...</td>\n",
       "      <td>1000.0</td>\n",
       "      <td>this is my first laptop and i bought it about ...</td>\n",
       "      <td>4</td>\n",
       "      <td>1118016000</td>\n",
       "      <td>redp944</td>\n",
       "    </tr>\n",
       "  </tbody>\n",
       "</table>\n",
       "</div>"
      ],
      "text/plain": [
       "                                                item    paid  \\\n",
       "0                 Minolta_QMS_PagePro_1250E_Printers   260.0   \n",
       "1  Sony_VAIO_PCG_K45_P4_538_3_2GHz_1MB_L2_533MHz_...  1800.0   \n",
       "2  Sony_VAIO_PCG_K45_P4_538_3_2GHz_1MB_L2_533MHz_...  1000.0   \n",
       "\n",
       "                                              review  stars        time  \\\n",
       "0  i got this printer from minolta as a warranty ...      4  1027296000   \n",
       "1  although i love my vaio especially the gorgeou...      2  1201305600   \n",
       "2  this is my first laptop and i bought it about ...      4  1118016000   \n",
       "\n",
       "       user  \n",
       "0    fgb59h  \n",
       "1  bucho_ky  \n",
       "2   redp944  "
      ]
     },
     "execution_count": 3,
     "metadata": {},
     "output_type": "execute_result"
    }
   ],
   "source": [
    "#Step 1: load the dataset\n",
    "file_path = 'epinions_with_quotes.json'\n",
    "epinion_data = pd.read_json(file_path, lines=True)\n",
    "epinion_data.head(3)"
   ]
  },
  {
   "cell_type": "code",
   "execution_count": 4,
   "metadata": {},
   "outputs": [
    {
     "name": "stdout",
     "output_type": "stream",
     "text": [
      "Rows: 188477 ; Columns: 6 \n",
      "\n"
     ]
    }
   ],
   "source": [
    "print('Rows:', epinion_data.shape[0], '; Columns:', epinion_data.shape[1], '\\n')"
   ]
  },
  {
   "cell_type": "markdown",
   "metadata": {},
   "source": [
    "# Basic Stats of Reviews and ratings"
   ]
  },
  {
   "cell_type": "code",
   "execution_count": 5,
   "metadata": {},
   "outputs": [
    {
     "data": {
      "text/html": [
       "<div>\n",
       "<style scoped>\n",
       "    .dataframe tbody tr th:only-of-type {\n",
       "        vertical-align: middle;\n",
       "    }\n",
       "\n",
       "    .dataframe tbody tr th {\n",
       "        vertical-align: top;\n",
       "    }\n",
       "\n",
       "    .dataframe thead th {\n",
       "        text-align: right;\n",
       "    }\n",
       "</style>\n",
       "<table border=\"1\" class=\"dataframe\">\n",
       "  <thead>\n",
       "    <tr style=\"text-align: right;\">\n",
       "      <th></th>\n",
       "      <th>paid</th>\n",
       "      <th>stars</th>\n",
       "      <th>time</th>\n",
       "    </tr>\n",
       "  </thead>\n",
       "  <tbody>\n",
       "    <tr>\n",
       "      <th>count</th>\n",
       "      <td>1.884770e+05</td>\n",
       "      <td>188477.000000</td>\n",
       "      <td>1.884770e+05</td>\n",
       "    </tr>\n",
       "    <tr>\n",
       "      <th>mean</th>\n",
       "      <td>1.487711e+07</td>\n",
       "      <td>3.619991</td>\n",
       "      <td>1.124308e+09</td>\n",
       "    </tr>\n",
       "    <tr>\n",
       "      <th>std</th>\n",
       "      <td>3.553505e+09</td>\n",
       "      <td>1.502810</td>\n",
       "      <td>9.401803e+07</td>\n",
       "    </tr>\n",
       "    <tr>\n",
       "      <th>min</th>\n",
       "      <td>-2.210000e+02</td>\n",
       "      <td>1.000000</td>\n",
       "      <td>9.796896e+08</td>\n",
       "    </tr>\n",
       "    <tr>\n",
       "      <th>25%</th>\n",
       "      <td>7.900000e+01</td>\n",
       "      <td>2.000000</td>\n",
       "      <td>1.048810e+09</td>\n",
       "    </tr>\n",
       "    <tr>\n",
       "      <th>50%</th>\n",
       "      <td>2.490000e+02</td>\n",
       "      <td>4.000000</td>\n",
       "      <td>1.117930e+09</td>\n",
       "    </tr>\n",
       "    <tr>\n",
       "      <th>75%</th>\n",
       "      <td>1.034000e+03</td>\n",
       "      <td>5.000000</td>\n",
       "      <td>1.188432e+09</td>\n",
       "    </tr>\n",
       "    <tr>\n",
       "      <th>max</th>\n",
       "      <td>1.000000e+12</td>\n",
       "      <td>5.000000</td>\n",
       "      <td>1.384387e+09</td>\n",
       "    </tr>\n",
       "  </tbody>\n",
       "</table>\n",
       "</div>"
      ],
      "text/plain": [
       "               paid          stars          time\n",
       "count  1.884770e+05  188477.000000  1.884770e+05\n",
       "mean   1.487711e+07       3.619991  1.124308e+09\n",
       "std    3.553505e+09       1.502810  9.401803e+07\n",
       "min   -2.210000e+02       1.000000  9.796896e+08\n",
       "25%    7.900000e+01       2.000000  1.048810e+09\n",
       "50%    2.490000e+02       4.000000  1.117930e+09\n",
       "75%    1.034000e+03       5.000000  1.188432e+09\n",
       "max    1.000000e+12       5.000000  1.384387e+09"
      ]
     },
     "execution_count": 5,
     "metadata": {},
     "output_type": "execute_result"
    }
   ],
   "source": [
    "epinion_data.describe()"
   ]
  },
  {
   "cell_type": "markdown",
   "metadata": {},
   "source": [
    "## Print the number of unique users"
   ]
  },
  {
   "cell_type": "code",
   "execution_count": 6,
   "metadata": {},
   "outputs": [
    {
     "name": "stdout",
     "output_type": "stream",
     "text": [
      "number of users:  116260\n"
     ]
    }
   ],
   "source": [
    "# number of unique users\n",
    "print(\"number of users: \", epinion_data.user.nunique())"
   ]
  },
  {
   "cell_type": "markdown",
   "metadata": {},
   "source": [
    "# Print the number of unique items"
   ]
  },
  {
   "cell_type": "code",
   "execution_count": 7,
   "metadata": {},
   "outputs": [
    {
     "name": "stdout",
     "output_type": "stream",
     "text": [
      "number of items:  41269\n"
     ]
    }
   ],
   "source": [
    "# number of unique items\n",
    "print(\"number of items: \", epinion_data.item.nunique())"
   ]
  },
  {
   "cell_type": "markdown",
   "metadata": {},
   "source": [
    "# Print the number of unique ratings(stars)"
   ]
  },
  {
   "cell_type": "code",
   "execution_count": 8,
   "metadata": {},
   "outputs": [
    {
     "name": "stdout",
     "output_type": "stream",
     "text": [
      "number of ratings:  5\n"
     ]
    }
   ],
   "source": [
    "# number of unique ratings\n",
    "print(\"number of ratings: \", epinion_data.stars.nunique())"
   ]
  },
  {
   "cell_type": "markdown",
   "metadata": {},
   "source": [
    "## Print the rating Count"
   ]
  },
  {
   "cell_type": "code",
   "execution_count": 9,
   "metadata": {},
   "outputs": [
    {
     "name": "stdout",
     "output_type": "stream",
     "text": [
      "   Stars  Count\n",
      "0      1  33305\n",
      "1      2  15090\n",
      "2      3  17151\n",
      "3      4  47308\n",
      "4      5  75623\n"
     ]
    }
   ],
   "source": [
    "stars_count = epinion_data.groupby(by=['stars']).agg({'user': 'count'}).reset_index()\n",
    "stars_count.columns = ['Stars', 'Count']\n",
    "print(stars_count)"
   ]
  },
  {
   "cell_type": "code",
   "execution_count": 10,
   "metadata": {},
   "outputs": [
    {
     "data": {
      "text/plain": [
       "<matplotlib.axes._subplots.AxesSubplot at 0x1214450b8>"
      ]
     },
     "execution_count": 10,
     "metadata": {},
     "output_type": "execute_result"
    },
    {
     "data": {
      "image/png": "[encoded data removed]",
      "text/plain": [
       "<Figure size 432x288 with 1 Axes>"
      ]
     },
     "metadata": {
      "needs_background": "light"
     },
     "output_type": "display_data"
    }
   ],
   "source": [
    "stars_count.plot.bar(x='Stars', y='Count', color='navy')"
   ]
  },
  {
   "cell_type": "markdown",
   "metadata": {},
   "source": [
    "# Print number of users who have given more than 4 ratings"
   ]
  },
  {
   "cell_type": "code",
   "execution_count": 11,
   "metadata": {},
   "outputs": [
    {
     "name": "stdout",
     "output_type": "stream",
     "text": [
      "Number of users who have given more than 4 ratings:  4903\n"
     ]
    }
   ],
   "source": [
    "ratings_per_user=epinion_data.groupby('user').agg({'stars':'count'}).reset_index()\n",
    "ratings_per_user.columns = ['User', 'Rating_Count']\n",
    "ratings_per_user = ratings_per_user[ratings_per_user.Rating_Count > 4]\n",
    "\n",
    "print(\"Number of users who have given more than 4 ratings: \", ratings_per_user.shape[0])"
   ]
  },
  {
   "cell_type": "markdown",
   "metadata": {},
   "source": [
    "# User and their rating count for count > 4"
   ]
  },
  {
   "cell_type": "code",
   "execution_count": 12,
   "metadata": {},
   "outputs": [
    {
     "data": {
      "text/plain": [
       "<matplotlib.axes._subplots.AxesSubplot at 0x12325c358>"
      ]
     },
     "execution_count": 12,
     "metadata": {},
     "output_type": "execute_result"
    },
    {
     "data": {
      "image/png": "[encoded data removed]",
      "text/plain": [
       "<Figure size 432x288 with 1 Axes>"
      ]
     },
     "metadata": {
      "needs_background": "light"
     },
     "output_type": "display_data"
    }
   ],
   "source": [
    "ratings_per_user.plot.bar(x='User', y='Rating_Count', color='blue')\n",
    "# plt.barh(ratings_per_user.User, ratings_per_user.Rating_Count, color='blue')\n",
    "# plt.title('Count of Ratings per User', fontsize=15)\n",
    "# plt.xlabel('User', fontsize=15)\n",
    "# plt.ylabel('Nunber of Ratings', fontsize=15)\n",
    "# plt.grid(ls='dotted')\n",
    "# plt.show()"
   ]
  },
  {
   "cell_type": "markdown",
   "metadata": {},
   "source": [
    "# Missing Value Analysis"
   ]
  },
  {
   "cell_type": "markdown",
   "metadata": {},
   "source": [
    "# Number of missing records"
   ]
  },
  {
   "cell_type": "code",
   "execution_count": 13,
   "metadata": {},
   "outputs": [
    {
     "data": {
      "text/plain": [
       "item      0\n",
       "paid      0\n",
       "review    0\n",
       "stars     0\n",
       "time      0\n",
       "user      0\n",
       "dtype: int64"
      ]
     },
     "execution_count": 13,
     "metadata": {},
     "output_type": "execute_result"
    }
   ],
   "source": [
    "epinion_data.isnull().sum(axis=0)"
   ]
  },
  {
   "cell_type": "code",
   "execution_count": 14,
   "metadata": {},
   "outputs": [
    {
     "data": {
      "text/plain": [
       "item      0\n",
       "paid      0\n",
       "review    0\n",
       "stars     0\n",
       "time      0\n",
       "user      0\n",
       "dtype: int64"
      ]
     },
     "execution_count": 14,
     "metadata": {},
     "output_type": "execute_result"
    }
   ],
   "source": [
    "len(epinion_data.index)-epinion_data.count()"
   ]
  }
 ],
 "metadata": {
  "kernelspec": {
   "display_name": "Python 3",
   "language": "python",
   "name": "python3"
  },
  "language_info": {
   "codemirror_mode": {
    "name": "ipython",
    "version": 3
   },
   "file_extension": ".py",
   "mimetype": "text/x-python",
   "name": "python",
   "nbconvert_exporter": "python",
   "pygments_lexer": "ipython3",
   "version": "3.7.3"
  }
 },
 "nbformat": 4,
 "nbformat_minor": 2
}
