{
 "cells": [
  {
   "cell_type": "code",
   "execution_count": 1,
   "metadata": {},
   "outputs": [],
   "source": [
    "# Reference taken from in-class small graph demo\n",
    "\n",
    "import sys\n",
    "#sys.path.append('/home/012565046/.local/lib/python3.7/site-packages')\n",
    "sys.path.append('/home/012565046/.local/lib/python2.7/site-packages')\n",
    "\n",
    "import networkx as nx\n",
    "import matplotlib.pyplot as plt\n",
    "\n",
    "#G = nx.Graph()\n",
    "G = nx.DiGraph()"
   ]
  },
  {
   "cell_type": "code",
   "execution_count": 495,
   "metadata": {},
   "outputs": [],
   "source": [
    "path = 'Dataset/epinion_network_trust_new.csv'\n",
    "import pandas as pd\n",
    "df = pd.read_csv(path)"
   ]
  },
  {
   "cell_type": "code",
   "execution_count": 3,
   "metadata": {},
   "outputs": [],
   "source": [
    "#  https://stackoverflow.com/questions/28488559/networkx-duplicate-edges\n",
    "G = nx.from_pandas_edgelist(df, 'user1', 'user2')"
   ]
  },
  {
   "cell_type": "code",
   "execution_count": 4,
   "metadata": {},
   "outputs": [],
   "source": [
    "for index, row in df.iterrows():\n",
    "    G.add_edge(row['user1'], row['user2'])"
   ]
  },
  {
   "cell_type": "code",
   "execution_count": 5,
   "metadata": {},
   "outputs": [
    {
     "data": {
      "text/plain": [
       "'\\nplt.figure(figsize=(4,4))\\n#nx.draw_circular(G)\\n#nx.draw_random(G)\\nnx.draw_spectral(G, with_labels=True)\\nplt.show()\\n'"
      ]
     },
     "execution_count": 5,
     "metadata": {},
     "output_type": "execute_result"
    }
   ],
   "source": [
    "# https://networkx.github.io/documentation/stable/reference/drawing.html\n",
    "'''\n",
    "plt.figure(figsize=(4,4))\n",
    "#nx.draw_circular(G)\n",
    "#nx.draw_random(G)\n",
    "nx.draw_spectral(G, with_labels=True)\n",
    "plt.show()\n",
    "'''"
   ]
  },
  {
   "cell_type": "code",
   "execution_count": 6,
   "metadata": {},
   "outputs": [
    {
     "data": {
      "text/plain": [
       "\"\\nplt.figure(figsize=(15,10))\\n\\n#pos = nx.circular_layout(G)\\npos = nx.kamada_kawai_layout(G)\\nnx.draw_networkx_nodes(G, pos, node_color='red', edgecolors='black')\\nnx.draw_networkx_edges(G, pos)\\nplt.title('Node Graph for Trust Data')\\n\""
      ]
     },
     "execution_count": 6,
     "metadata": {},
     "output_type": "execute_result"
    }
   ],
   "source": [
    "# https://networkx.github.io/documentation/stable/reference/drawing.html\n",
    "# Section referred: Matplotlib, Graph Layout\n",
    "'''\n",
    "plt.figure(figsize=(15,10))\n",
    "\n",
    "#pos = nx.circular_layout(G)\n",
    "pos = nx.kamada_kawai_layout(G)\n",
    "nx.draw_networkx_nodes(G, pos, node_color='red', edgecolors='black')\n",
    "nx.draw_networkx_edges(G, pos)\n",
    "plt.title('Node Graph for Trust Data')\n",
    "'''"
   ]
  },
  {
   "cell_type": "code",
   "execution_count": 7,
   "metadata": {},
   "outputs": [
    {
     "name": "stdout",
     "output_type": "stream",
     "text": [
      "number of edges= 282882\n",
      "number of nodes= 48610\n"
     ]
    }
   ],
   "source": [
    "print(\"number of edges=\", len(G.edges()))\n",
    "print(\"number of nodes=\", len(G.nodes()))"
   ]
  },
  {
   "cell_type": "code",
   "execution_count": 8,
   "metadata": {},
   "outputs": [],
   "source": [
    "degree_centrality = nx.degree_centrality(G)"
   ]
  },
  {
   "cell_type": "code",
   "execution_count": 9,
   "metadata": {},
   "outputs": [],
   "source": [
    "closeness_centrality = nx.closeness_centrality(G)"
   ]
  },
  {
   "cell_type": "code",
   "execution_count": 10,
   "metadata": {},
   "outputs": [],
   "source": [
    "betweenness_centrality = nx.betweenness_centrality(G)"
   ]
  },
  {
   "cell_type": "code",
   "execution_count": 29,
   "metadata": {},
   "outputs": [
    {
     "data": {
      "text/plain": [
       "'\\npos = nx.spring_layout(G)\\nnode_color = [20000.0 * G.degree(v) for v in G]\\nnode_size =  [v * 10000 for v in degree_centrality.values()]\\nplt.figure(figsize=(15,10))\\nnx.draw_networkx(G, pos=pos, with_labels=False, node_color=node_color, node_size=node_size )\\n'"
      ]
     },
     "execution_count": 29,
     "metadata": {},
     "output_type": "execute_result"
    }
   ],
   "source": [
    "# reference: https://www.datacamp.com/community/tutorials/social-network-analysis-python\n",
    "'''\n",
    "pos = nx.spring_layout(G)\n",
    "node_color = [20000.0 * G.degree(v) for v in G]\n",
    "node_size =  [v * 10000 for v in degree_centrality.values()]\n",
    "plt.figure(figsize=(15,10))\n",
    "nx.draw_networkx(G, pos=pos, with_labels=False, node_color=node_color, node_size=node_size )\n",
    "'''"
   ]
  },
  {
   "cell_type": "code",
   "execution_count": 12,
   "metadata": {},
   "outputs": [
    {
     "data": {
      "text/plain": [
       "\"\\nplt.figure(figsize=(20,10))\\n\\nplt.subplot(1,3,1)\\npos = nx.spring_layout(G)\\nnode_color = [20000.0 * G.degree(v) for v in G]\\nnode_size =  [v * 10000 for v in degree_centrality.values()]\\nnx.draw_networkx(G, pos=pos, with_labels=False, node_color=node_color, node_size=node_size, arrowstyle = '>')\\n\\nplt.subplot(1,3,2)\\nnode_color = [20000.0 * G.degree(v) for v in G]\\nnode_size =  [v * 10000 for v in closeness_centrality.values()]\\nnx.draw_networkx(G, pos=pos, with_labels=False, node_color=node_color, node_size=node_size, arrowstyle = '>')\\n\\nplt.subplot(1,3,3)\\nnode_color = [20000.0 * G.degree(v) for v in G]\\nnode_size =  [v * 10000 for v in betweenness_centrality.values()]\\nnx.draw_networkx(G, pos=pos, with_labels=False, node_color=node_color, node_size=node_size, arrowstyle = '>')\\n\""
      ]
     },
     "execution_count": 12,
     "metadata": {},
     "output_type": "execute_result"
    }
   ],
   "source": [
    "# reference: https://www.datacamp.com/community/tutorials/social-network-analysis-python\n",
    "# https://matplotlib.org/3.1.1/gallery/recipes/create_subplots.html\n",
    "\n",
    "# creating subplots for different centrality measures\n",
    "'''\n",
    "plt.figure(figsize=(20,10))\n",
    "\n",
    "plt.subplot(1,3,1)\n",
    "pos = nx.spring_layout(G)\n",
    "node_color = [20000.0 * G.degree(v) for v in G]\n",
    "node_size =  [v * 10000 for v in degree_centrality.values()]\n",
    "nx.draw_networkx(G, pos=pos, with_labels=False, node_color=node_color, node_size=node_size, arrowstyle = '>')\n",
    "\n",
    "plt.subplot(1,3,2)\n",
    "node_color = [20000.0 * G.degree(v) for v in G]\n",
    "node_size =  [v * 10000 for v in closeness_centrality.values()]\n",
    "nx.draw_networkx(G, pos=pos, with_labels=False, node_color=node_color, node_size=node_size, arrowstyle = '>')\n",
    "\n",
    "plt.subplot(1,3,3)\n",
    "node_color = [20000.0 * G.degree(v) for v in G]\n",
    "node_size =  [v * 10000 for v in betweenness_centrality.values()]\n",
    "nx.draw_networkx(G, pos=pos, with_labels=False, node_color=node_color, node_size=node_size, arrowstyle = '>')\n",
    "'''\n"
   ]
  },
  {
   "cell_type": "code",
   "execution_count": 13,
   "metadata": {},
   "outputs": [
    {
     "name": "stdout",
     "output_type": "stream",
     "text": [
      "\n",
      "Degree Centrality\n"
     ]
    },
    {
     "data": {
      "text/plain": [
       "[('ptiemann', ' : ', 0.05282972289082269),\n",
       " ('nancy35c', ' : ', 0.032895142874776274),\n",
       " ('gooberpyle', ' : ', 0.03262770268880248),\n",
       " ('mszorak', ' : ', 0.031434508012919415),\n",
       " ('bryan_carey', ' : ', 0.031413935690921435),\n",
       " ('charles', ' : ', 0.025530251599498035),\n",
       " ('bonniesayers', ' : ', 0.023473019399699643),\n",
       " ('jo.com', ' : ', 0.023143862247731902),\n",
       " ('howard_creech', ' : ', 0.02312328992573392),\n",
       " ('kristinafh', ' : ', 0.022917566705754077)]"
      ]
     },
     "execution_count": 13,
     "metadata": {},
     "output_type": "execute_result"
    }
   ],
   "source": [
    "# Reference: https://thispointer.com/python-how-to-sort-a-dictionary-by-key-or-value/\n",
    "\n",
    "# printing top 10 users with highest degree centrality\n",
    "print(\"\\nDegree Centrality\")\n",
    "[(key , \" : \" , value) for (key, value) in sorted(degree_centrality.items() , reverse = True, key=lambda x: x[1])[:10]]\n"
   ]
  },
  {
   "cell_type": "code",
   "execution_count": 14,
   "metadata": {},
   "outputs": [
    {
     "name": "stdout",
     "output_type": "stream",
     "text": [
      "\n",
      "Closeness Centrality\n"
     ]
    },
    {
     "data": {
      "text/plain": [
       "[('nancy35c', ' : ', 0.3696107774118041),\n",
       " ('ptiemann', ' : ', 0.36882694635916463),\n",
       " ('charles', ' : ', 0.36509818206176103),\n",
       " ('bryan_carey', ' : ', 0.3582108431452485),\n",
       " ('teanna3', ' : ', 0.3573977285859478),\n",
       " ('jo.com', ' : ', 0.35615443562819915),\n",
       " ('surferdude7', ' : ', 0.35434187533230604),\n",
       " ('mrkstvns', ' : ', 0.3538411538726802),\n",
       " ('martineden', ' : ', 0.35261645764957156),\n",
       " ('jedikermit', ' : ', 0.35196257400766723)]"
      ]
     },
     "execution_count": 14,
     "metadata": {},
     "output_type": "execute_result"
    }
   ],
   "source": [
    "# printing top 10 users with highest closeness centrality\n",
    "print(\"\\nCloseness Centrality\")\n",
    "[(key , \" : \" , value) for (key, value) in sorted(closeness_centrality.items() , reverse = True, key=lambda x: x[1])[:10]]\n"
   ]
  },
  {
   "cell_type": "code",
   "execution_count": 15,
   "metadata": {},
   "outputs": [
    {
     "name": "stdout",
     "output_type": "stream",
     "text": [
      "\n",
      "Betweenness Centrality\n"
     ]
    },
    {
     "data": {
      "text/plain": [
       "[('ptiemann', ' : ', 0.057356282041780594),\n",
       " ('gooberpyle', ' : ', 0.04313088356747514),\n",
       " ('mszorak', ' : ', 0.03871148002242183),\n",
       " ('nancy35c', ' : ', 0.02857222076789126),\n",
       " ('charles', ' : ', 0.022706586927516034),\n",
       " ('howard_creech', ' : ', 0.017296042165237318),\n",
       " ('teanna3', ' : ', 0.016641443969387472),\n",
       " ('bryan_carey', ' : ', 0.015648574429234237),\n",
       " ('hwz1', ' : ', 0.01403480155918806),\n",
       " ('surferdude7', ' : ', 0.013926297201678942)]"
      ]
     },
     "execution_count": 15,
     "metadata": {},
     "output_type": "execute_result"
    }
   ],
   "source": [
    "# printing top 10 users with highest closeness centrality\n",
    "print(\"\\nBetweenness Centrality\")\n",
    "[(key , \" : \" , value) for (key, value) in sorted(betweenness_centrality.items() , reverse = True, key=lambda x: x[1])[:10]]\n"
   ]
  },
  {
   "cell_type": "code",
   "execution_count": 16,
   "metadata": {},
   "outputs": [],
   "source": [
    "# using pagerank, finding most trusted users\n",
    "trust_factor = nx.pagerank(G, alpha=1, tol = 1)\n"
   ]
  },
  {
   "cell_type": "code",
   "execution_count": 17,
   "metadata": {},
   "outputs": [
    {
     "name": "stdout",
     "output_type": "stream",
     "text": [
      "\n",
      "Trust Factor\n"
     ]
    },
    {
     "data": {
      "text/plain": [
       "[('gooberpyle', 0.02028350426271167),\n",
       " ('mszorak', 0.013023352236499398),\n",
       " ('ptiemann', 0.008035944236226049),\n",
       " ('pogokat', 0.0044581953788575875),\n",
       " ('nancy35c', 0.004111084444717879),\n",
       " ('howard_creech', 0.0038654291541512244),\n",
       " ('bradywahl', 0.0037016810534035833),\n",
       " ('mkaresh', 0.0034248346100743923),\n",
       " ('riseley', 0.002668720632803134),\n",
       " ('guv920', 0.0026651424828751384)]"
      ]
     },
     "execution_count": 17,
     "metadata": {},
     "output_type": "execute_result"
    }
   ],
   "source": [
    "# printing top 10 users with highest degree centrality\n",
    "\n",
    "trust_score = []\n",
    "\n",
    "print(\"\\nTrust Factor\")\n",
    "trust_score = [(key ,value) for key, value in sorted(trust_factor.items() , reverse = True, key=lambda x: x[1])]\n",
    "trust_score[:10]"
   ]
  },
  {
   "cell_type": "code",
   "execution_count": 18,
   "metadata": {},
   "outputs": [
    {
     "data": {
      "text/plain": [
       "tuple"
      ]
     },
     "execution_count": 18,
     "metadata": {},
     "output_type": "execute_result"
    }
   ],
   "source": [
    "type(trust_score[0])"
   ]
  },
  {
   "cell_type": "code",
   "execution_count": null,
   "metadata": {},
   "outputs": [],
   "source": [
    "#trust_df.to_csv('Dataset/trust_scores.csv')"
   ]
  },
  {
   "cell_type": "markdown",
   "metadata": {},
   "source": [
    "#Building the Recommender System based on trust score"
   ]
  },
  {
   "cell_type": "markdown",
   "metadata": {},
   "source": [
    "Adding the trust score field in the original review file\n",
    "Approach: Trust score will be added to the review rating and an overall normalized rating will be recalculated in the range 1-5\n",
    "The recommendations will be based on the new ratings"
   ]
  },
  {
   "cell_type": "code",
   "execution_count": 473,
   "metadata": {},
   "outputs": [
    {
     "data": {
      "text/plain": [
       "item      188484\n",
       "paid      188296\n",
       "review    188484\n",
       "stars     188484\n",
       "time      188484\n",
       "user      188483\n",
       "dtype: int64"
      ]
     },
     "execution_count": 473,
     "metadata": {},
     "output_type": "execute_result"
    }
   ],
   "source": [
    "filepath = 'Dataset/epinion_preprocessed.csv'\n",
    "import pandas as pd\n",
    "df1 = pd.read_csv(filepath)\n",
    "df1['user'] = df1['user'].str.lower()\n",
    "df1.count()"
   ]
  },
  {
   "cell_type": "code",
   "execution_count": 474,
   "metadata": {},
   "outputs": [
    {
     "data": {
      "text/html": [
       "<div>\n",
       "<style scoped>\n",
       "    .dataframe tbody tr th:only-of-type {\n",
       "        vertical-align: middle;\n",
       "    }\n",
       "\n",
       "    .dataframe tbody tr th {\n",
       "        vertical-align: top;\n",
       "    }\n",
       "\n",
       "    .dataframe thead th {\n",
       "        text-align: right;\n",
       "    }\n",
       "</style>\n",
       "<table border=\"1\" class=\"dataframe\">\n",
       "  <thead>\n",
       "    <tr style=\"text-align: right;\">\n",
       "      <th></th>\n",
       "      <th>item</th>\n",
       "      <th>paid</th>\n",
       "      <th>review</th>\n",
       "      <th>stars</th>\n",
       "      <th>time</th>\n",
       "      <th>user</th>\n",
       "    </tr>\n",
       "  </thead>\n",
       "  <tbody>\n",
       "    <tr>\n",
       "      <th>0</th>\n",
       "      <td>pr-Sony_KV_36FS12__Standard_Televisions</td>\n",
       "      <td>1199</td>\n",
       "      <td>well when i graduated from college it didnt ta...</td>\n",
       "      <td>5</td>\n",
       "      <td>1012262400</td>\n",
       "      <td>pyros7</td>\n",
       "    </tr>\n",
       "    <tr>\n",
       "      <th>1</th>\n",
       "      <td>Minolta_QMS_PagePro_1250E_Printers</td>\n",
       "      <td>260</td>\n",
       "      <td>i got this printer from minolta as a warranty ...</td>\n",
       "      <td>4</td>\n",
       "      <td>1027296000</td>\n",
       "      <td>fgb59h</td>\n",
       "    </tr>\n",
       "    <tr>\n",
       "      <th>2</th>\n",
       "      <td>Sony_VAIO_PCG_K45_P4_538_3_2GHz_1MB_L2_533MHz_...</td>\n",
       "      <td>1800</td>\n",
       "      <td>although i love my vaio especially the gorgeou...</td>\n",
       "      <td>2</td>\n",
       "      <td>1201305600</td>\n",
       "      <td>bucho_ky</td>\n",
       "    </tr>\n",
       "    <tr>\n",
       "      <th>3</th>\n",
       "      <td>Sony_VAIO_PCG_K45_P4_538_3_2GHz_1MB_L2_533MHz_...</td>\n",
       "      <td>1000</td>\n",
       "      <td>this is my first laptop and i bought it about ...</td>\n",
       "      <td>4</td>\n",
       "      <td>1118016000</td>\n",
       "      <td>redp944</td>\n",
       "    </tr>\n",
       "    <tr>\n",
       "      <th>4</th>\n",
       "      <td>pr-Durabrand_CD-85_Personal_CD_Player</td>\n",
       "      <td>20</td>\n",
       "      <td>just recently my sony dej001 walkman died on m...</td>\n",
       "      <td>4</td>\n",
       "      <td>1149292800</td>\n",
       "      <td>spongebag7</td>\n",
       "    </tr>\n",
       "  </tbody>\n",
       "</table>\n",
       "</div>"
      ],
      "text/plain": [
       "                                                item  paid  \\\n",
       "0            pr-Sony_KV_36FS12__Standard_Televisions  1199   \n",
       "1                 Minolta_QMS_PagePro_1250E_Printers   260   \n",
       "2  Sony_VAIO_PCG_K45_P4_538_3_2GHz_1MB_L2_533MHz_...  1800   \n",
       "3  Sony_VAIO_PCG_K45_P4_538_3_2GHz_1MB_L2_533MHz_...  1000   \n",
       "4              pr-Durabrand_CD-85_Personal_CD_Player    20   \n",
       "\n",
       "                                              review  stars        time  \\\n",
       "0  well when i graduated from college it didnt ta...      5  1012262400   \n",
       "1  i got this printer from minolta as a warranty ...      4  1027296000   \n",
       "2  although i love my vaio especially the gorgeou...      2  1201305600   \n",
       "3  this is my first laptop and i bought it about ...      4  1118016000   \n",
       "4  just recently my sony dej001 walkman died on m...      4  1149292800   \n",
       "\n",
       "         user  \n",
       "0      pyros7  \n",
       "1      fgb59h  \n",
       "2    bucho_ky  \n",
       "3     redp944  \n",
       "4  spongebag7  "
      ]
     },
     "execution_count": 474,
     "metadata": {},
     "output_type": "execute_result"
    }
   ],
   "source": [
    "df1.head()"
   ]
  },
  {
   "cell_type": "code",
   "execution_count": 475,
   "metadata": {},
   "outputs": [],
   "source": [
    "df1.drop_duplicates(inplace = True)"
   ]
  },
  {
   "cell_type": "code",
   "execution_count": 476,
   "metadata": {},
   "outputs": [],
   "source": [
    "trust_df = pd.read_csv('Dataset/trust_scores.csv')\n",
    "#trust_df = pd.DataFrame(trust_score)"
   ]
  },
  {
   "cell_type": "code",
   "execution_count": 477,
   "metadata": {},
   "outputs": [],
   "source": [
    "trust_df.columns = ['user','trust_score']"
   ]
  },
  {
   "cell_type": "code",
   "execution_count": 478,
   "metadata": {},
   "outputs": [
    {
     "data": {
      "text/html": [
       "<div>\n",
       "<style scoped>\n",
       "    .dataframe tbody tr th:only-of-type {\n",
       "        vertical-align: middle;\n",
       "    }\n",
       "\n",
       "    .dataframe tbody tr th {\n",
       "        vertical-align: top;\n",
       "    }\n",
       "\n",
       "    .dataframe thead th {\n",
       "        text-align: right;\n",
       "    }\n",
       "</style>\n",
       "<table border=\"1\" class=\"dataframe\">\n",
       "  <thead>\n",
       "    <tr style=\"text-align: right;\">\n",
       "      <th></th>\n",
       "      <th>user</th>\n",
       "      <th>trust_score</th>\n",
       "    </tr>\n",
       "  </thead>\n",
       "  <tbody>\n",
       "    <tr>\n",
       "      <th>0</th>\n",
       "      <td>gooberpyle</td>\n",
       "      <td>0.020284</td>\n",
       "    </tr>\n",
       "    <tr>\n",
       "      <th>1</th>\n",
       "      <td>mszorak</td>\n",
       "      <td>0.013023</td>\n",
       "    </tr>\n",
       "    <tr>\n",
       "      <th>2</th>\n",
       "      <td>ptiemann</td>\n",
       "      <td>0.008036</td>\n",
       "    </tr>\n",
       "    <tr>\n",
       "      <th>3</th>\n",
       "      <td>pogokat</td>\n",
       "      <td>0.004458</td>\n",
       "    </tr>\n",
       "    <tr>\n",
       "      <th>4</th>\n",
       "      <td>nancy35c</td>\n",
       "      <td>0.004111</td>\n",
       "    </tr>\n",
       "  </tbody>\n",
       "</table>\n",
       "</div>"
      ],
      "text/plain": [
       "         user  trust_score\n",
       "0  gooberpyle     0.020284\n",
       "1     mszorak     0.013023\n",
       "2    ptiemann     0.008036\n",
       "3     pogokat     0.004458\n",
       "4    nancy35c     0.004111"
      ]
     },
     "execution_count": 478,
     "metadata": {},
     "output_type": "execute_result"
    }
   ],
   "source": [
    "trust_df.head()"
   ]
  },
  {
   "cell_type": "code",
   "execution_count": 479,
   "metadata": {},
   "outputs": [
    {
     "data": {
      "text/html": [
       "<div>\n",
       "<style scoped>\n",
       "    .dataframe tbody tr th:only-of-type {\n",
       "        vertical-align: middle;\n",
       "    }\n",
       "\n",
       "    .dataframe tbody tr th {\n",
       "        vertical-align: top;\n",
       "    }\n",
       "\n",
       "    .dataframe thead th {\n",
       "        text-align: right;\n",
       "    }\n",
       "</style>\n",
       "<table border=\"1\" class=\"dataframe\">\n",
       "  <thead>\n",
       "    <tr style=\"text-align: right;\">\n",
       "      <th></th>\n",
       "      <th>trust_score</th>\n",
       "    </tr>\n",
       "  </thead>\n",
       "  <tbody>\n",
       "    <tr>\n",
       "      <th>count</th>\n",
       "      <td>4.861000e+04</td>\n",
       "    </tr>\n",
       "    <tr>\n",
       "      <th>mean</th>\n",
       "      <td>2.057369e-05</td>\n",
       "    </tr>\n",
       "    <tr>\n",
       "      <th>std</th>\n",
       "      <td>1.480943e-04</td>\n",
       "    </tr>\n",
       "    <tr>\n",
       "      <th>min</th>\n",
       "      <td>8.010000e-09</td>\n",
       "    </tr>\n",
       "    <tr>\n",
       "      <th>25%</th>\n",
       "      <td>2.120000e-07</td>\n",
       "    </tr>\n",
       "    <tr>\n",
       "      <th>50%</th>\n",
       "      <td>1.580000e-06</td>\n",
       "    </tr>\n",
       "    <tr>\n",
       "      <th>75%</th>\n",
       "      <td>1.060000e-05</td>\n",
       "    </tr>\n",
       "    <tr>\n",
       "      <th>max</th>\n",
       "      <td>2.028350e-02</td>\n",
       "    </tr>\n",
       "  </tbody>\n",
       "</table>\n",
       "</div>"
      ],
      "text/plain": [
       "        trust_score\n",
       "count  4.861000e+04\n",
       "mean   2.057369e-05\n",
       "std    1.480943e-04\n",
       "min    8.010000e-09\n",
       "25%    2.120000e-07\n",
       "50%    1.580000e-06\n",
       "75%    1.060000e-05\n",
       "max    2.028350e-02"
      ]
     },
     "execution_count": 479,
     "metadata": {},
     "output_type": "execute_result"
    }
   ],
   "source": [
    "trust_df.describe()"
   ]
  },
  {
   "cell_type": "code",
   "execution_count": 480,
   "metadata": {},
   "outputs": [],
   "source": [
    "# scaling the trust scores \n",
    "trust_df['trust_score'] = trust_df['trust_score'] * 100"
   ]
  },
  {
   "cell_type": "code",
   "execution_count": 481,
   "metadata": {},
   "outputs": [
    {
     "data": {
      "text/html": [
       "<div>\n",
       "<style scoped>\n",
       "    .dataframe tbody tr th:only-of-type {\n",
       "        vertical-align: middle;\n",
       "    }\n",
       "\n",
       "    .dataframe tbody tr th {\n",
       "        vertical-align: top;\n",
       "    }\n",
       "\n",
       "    .dataframe thead th {\n",
       "        text-align: right;\n",
       "    }\n",
       "</style>\n",
       "<table border=\"1\" class=\"dataframe\">\n",
       "  <thead>\n",
       "    <tr style=\"text-align: right;\">\n",
       "      <th></th>\n",
       "      <th>trust_score</th>\n",
       "    </tr>\n",
       "  </thead>\n",
       "  <tbody>\n",
       "    <tr>\n",
       "      <th>count</th>\n",
       "      <td>4.861000e+04</td>\n",
       "    </tr>\n",
       "    <tr>\n",
       "      <th>mean</th>\n",
       "      <td>2.057369e-03</td>\n",
       "    </tr>\n",
       "    <tr>\n",
       "      <th>std</th>\n",
       "      <td>1.480943e-02</td>\n",
       "    </tr>\n",
       "    <tr>\n",
       "      <th>min</th>\n",
       "      <td>8.010000e-07</td>\n",
       "    </tr>\n",
       "    <tr>\n",
       "      <th>25%</th>\n",
       "      <td>2.120000e-05</td>\n",
       "    </tr>\n",
       "    <tr>\n",
       "      <th>50%</th>\n",
       "      <td>1.580000e-04</td>\n",
       "    </tr>\n",
       "    <tr>\n",
       "      <th>75%</th>\n",
       "      <td>1.060000e-03</td>\n",
       "    </tr>\n",
       "    <tr>\n",
       "      <th>max</th>\n",
       "      <td>2.028350e+00</td>\n",
       "    </tr>\n",
       "  </tbody>\n",
       "</table>\n",
       "</div>"
      ],
      "text/plain": [
       "        trust_score\n",
       "count  4.861000e+04\n",
       "mean   2.057369e-03\n",
       "std    1.480943e-02\n",
       "min    8.010000e-07\n",
       "25%    2.120000e-05\n",
       "50%    1.580000e-04\n",
       "75%    1.060000e-03\n",
       "max    2.028350e+00"
      ]
     },
     "execution_count": 481,
     "metadata": {},
     "output_type": "execute_result"
    }
   ],
   "source": [
    "trust_df.describe()"
   ]
  },
  {
   "cell_type": "code",
   "execution_count": 482,
   "metadata": {},
   "outputs": [
    {
     "data": {
      "text/plain": [
       "user           17343\n",
       "trust_score    17343\n",
       "dtype: int64"
      ]
     },
     "execution_count": 482,
     "metadata": {},
     "output_type": "execute_result"
    }
   ],
   "source": [
    "# Defining threshold value for trust_score check\n",
    "trust_df[trust_df['trust_score'] < 0.00005].count()"
   ]
  },
  {
   "cell_type": "code",
   "execution_count": 483,
   "metadata": {},
   "outputs": [],
   "source": [
    "result_df = pd.merge(df1, trust_df, how='left', on='user')"
   ]
  },
  {
   "cell_type": "code",
   "execution_count": 484,
   "metadata": {},
   "outputs": [
    {
     "data": {
      "text/html": [
       "<div>\n",
       "<style scoped>\n",
       "    .dataframe tbody tr th:only-of-type {\n",
       "        vertical-align: middle;\n",
       "    }\n",
       "\n",
       "    .dataframe tbody tr th {\n",
       "        vertical-align: top;\n",
       "    }\n",
       "\n",
       "    .dataframe thead th {\n",
       "        text-align: right;\n",
       "    }\n",
       "</style>\n",
       "<table border=\"1\" class=\"dataframe\">\n",
       "  <thead>\n",
       "    <tr style=\"text-align: right;\">\n",
       "      <th></th>\n",
       "      <th>item</th>\n",
       "      <th>paid</th>\n",
       "      <th>review</th>\n",
       "      <th>stars</th>\n",
       "      <th>time</th>\n",
       "      <th>user</th>\n",
       "      <th>trust_score</th>\n",
       "    </tr>\n",
       "  </thead>\n",
       "  <tbody>\n",
       "    <tr>\n",
       "      <th>0</th>\n",
       "      <td>pr-Sony_KV_36FS12__Standard_Televisions</td>\n",
       "      <td>1199</td>\n",
       "      <td>well when i graduated from college it didnt ta...</td>\n",
       "      <td>5</td>\n",
       "      <td>1012262400</td>\n",
       "      <td>pyros7</td>\n",
       "      <td>NaN</td>\n",
       "    </tr>\n",
       "    <tr>\n",
       "      <th>1</th>\n",
       "      <td>Minolta_QMS_PagePro_1250E_Printers</td>\n",
       "      <td>260</td>\n",
       "      <td>i got this printer from minolta as a warranty ...</td>\n",
       "      <td>4</td>\n",
       "      <td>1027296000</td>\n",
       "      <td>fgb59h</td>\n",
       "      <td>NaN</td>\n",
       "    </tr>\n",
       "    <tr>\n",
       "      <th>2</th>\n",
       "      <td>Sony_VAIO_PCG_K45_P4_538_3_2GHz_1MB_L2_533MHz_...</td>\n",
       "      <td>1800</td>\n",
       "      <td>although i love my vaio especially the gorgeou...</td>\n",
       "      <td>2</td>\n",
       "      <td>1201305600</td>\n",
       "      <td>bucho_ky</td>\n",
       "      <td>NaN</td>\n",
       "    </tr>\n",
       "    <tr>\n",
       "      <th>3</th>\n",
       "      <td>Sony_VAIO_PCG_K45_P4_538_3_2GHz_1MB_L2_533MHz_...</td>\n",
       "      <td>1000</td>\n",
       "      <td>this is my first laptop and i bought it about ...</td>\n",
       "      <td>4</td>\n",
       "      <td>1118016000</td>\n",
       "      <td>redp944</td>\n",
       "      <td>NaN</td>\n",
       "    </tr>\n",
       "    <tr>\n",
       "      <th>4</th>\n",
       "      <td>pr-Durabrand_CD-85_Personal_CD_Player</td>\n",
       "      <td>20</td>\n",
       "      <td>just recently my sony dej001 walkman died on m...</td>\n",
       "      <td>4</td>\n",
       "      <td>1149292800</td>\n",
       "      <td>spongebag7</td>\n",
       "      <td>0.003870</td>\n",
       "    </tr>\n",
       "    <tr>\n",
       "      <th>5</th>\n",
       "      <td>pr-Sony_KV_36FS12__Standard_Televisions</td>\n",
       "      <td>1350</td>\n",
       "      <td>out of the box its an impressive television it...</td>\n",
       "      <td>4</td>\n",
       "      <td>982281600</td>\n",
       "      <td>daleb</td>\n",
       "      <td>0.003640</td>\n",
       "    </tr>\n",
       "    <tr>\n",
       "      <th>6</th>\n",
       "      <td>pr-Sony_KV_36FS12__Standard_Televisions</td>\n",
       "      <td>1200</td>\n",
       "      <td>when i first bought this tv i was pleased with...</td>\n",
       "      <td>1</td>\n",
       "      <td>1109116800</td>\n",
       "      <td>tarsyn</td>\n",
       "      <td>NaN</td>\n",
       "    </tr>\n",
       "    <tr>\n",
       "      <th>7</th>\n",
       "      <td>pr-Sony_KV_36FS12__Standard_Televisions</td>\n",
       "      <td>1350</td>\n",
       "      <td>the only real gripe is just the insane weight ...</td>\n",
       "      <td>5</td>\n",
       "      <td>981158400</td>\n",
       "      <td>genkle1</td>\n",
       "      <td>NaN</td>\n",
       "    </tr>\n",
       "    <tr>\n",
       "      <th>8</th>\n",
       "      <td>cmhd-Monitors-All-Nokia_447Xi_Plus</td>\n",
       "      <td>0</td>\n",
       "      <td>as much as i wanted a 19 at the time i just di...</td>\n",
       "      <td>4</td>\n",
       "      <td>1052352000</td>\n",
       "      <td>shadeybeep</td>\n",
       "      <td>NaN</td>\n",
       "    </tr>\n",
       "    <tr>\n",
       "      <th>9</th>\n",
       "      <td>century-novelty-harry-potter-gryffindor-house-...</td>\n",
       "      <td>14</td>\n",
       "      <td>you dont need spells to keep you cozy this sea...</td>\n",
       "      <td>5</td>\n",
       "      <td>1337299200</td>\n",
       "      <td>kelsey34491</td>\n",
       "      <td>0.000011</td>\n",
       "    </tr>\n",
       "  </tbody>\n",
       "</table>\n",
       "</div>"
      ],
      "text/plain": [
       "                                                item  paid  \\\n",
       "0            pr-Sony_KV_36FS12__Standard_Televisions  1199   \n",
       "1                 Minolta_QMS_PagePro_1250E_Printers   260   \n",
       "2  Sony_VAIO_PCG_K45_P4_538_3_2GHz_1MB_L2_533MHz_...  1800   \n",
       "3  Sony_VAIO_PCG_K45_P4_538_3_2GHz_1MB_L2_533MHz_...  1000   \n",
       "4              pr-Durabrand_CD-85_Personal_CD_Player    20   \n",
       "5            pr-Sony_KV_36FS12__Standard_Televisions  1350   \n",
       "6            pr-Sony_KV_36FS12__Standard_Televisions  1200   \n",
       "7            pr-Sony_KV_36FS12__Standard_Televisions  1350   \n",
       "8                 cmhd-Monitors-All-Nokia_447Xi_Plus     0   \n",
       "9  century-novelty-harry-potter-gryffindor-house-...    14   \n",
       "\n",
       "                                              review  stars        time  \\\n",
       "0  well when i graduated from college it didnt ta...      5  1012262400   \n",
       "1  i got this printer from minolta as a warranty ...      4  1027296000   \n",
       "2  although i love my vaio especially the gorgeou...      2  1201305600   \n",
       "3  this is my first laptop and i bought it about ...      4  1118016000   \n",
       "4  just recently my sony dej001 walkman died on m...      4  1149292800   \n",
       "5  out of the box its an impressive television it...      4   982281600   \n",
       "6  when i first bought this tv i was pleased with...      1  1109116800   \n",
       "7  the only real gripe is just the insane weight ...      5   981158400   \n",
       "8  as much as i wanted a 19 at the time i just di...      4  1052352000   \n",
       "9  you dont need spells to keep you cozy this sea...      5  1337299200   \n",
       "\n",
       "          user  trust_score  \n",
       "0       pyros7          NaN  \n",
       "1       fgb59h          NaN  \n",
       "2     bucho_ky          NaN  \n",
       "3      redp944          NaN  \n",
       "4   spongebag7     0.003870  \n",
       "5        daleb     0.003640  \n",
       "6       tarsyn          NaN  \n",
       "7      genkle1          NaN  \n",
       "8   shadeybeep          NaN  \n",
       "9  kelsey34491     0.000011  "
      ]
     },
     "execution_count": 484,
     "metadata": {},
     "output_type": "execute_result"
    }
   ],
   "source": [
    "result_df.head(10)"
   ]
  },
  {
   "cell_type": "code",
   "execution_count": 485,
   "metadata": {},
   "outputs": [
    {
     "data": {
      "text/plain": [
       "item           188433\n",
       "paid           188245\n",
       "review         188433\n",
       "stars          188433\n",
       "time           188433\n",
       "user           188432\n",
       "trust_score     55319\n",
       "dtype: int64"
      ]
     },
     "execution_count": 485,
     "metadata": {},
     "output_type": "execute_result"
    }
   ],
   "source": [
    "result_df.count()"
   ]
  },
  {
   "cell_type": "code",
   "execution_count": 486,
   "metadata": {},
   "outputs": [],
   "source": [
    "result_df['trust_score'].fillna(0, inplace = True)"
   ]
  },
  {
   "cell_type": "code",
   "execution_count": 487,
   "metadata": {},
   "outputs": [
    {
     "data": {
      "text/html": [
       "<div>\n",
       "<style scoped>\n",
       "    .dataframe tbody tr th:only-of-type {\n",
       "        vertical-align: middle;\n",
       "    }\n",
       "\n",
       "    .dataframe tbody tr th {\n",
       "        vertical-align: top;\n",
       "    }\n",
       "\n",
       "    .dataframe thead th {\n",
       "        text-align: right;\n",
       "    }\n",
       "</style>\n",
       "<table border=\"1\" class=\"dataframe\">\n",
       "  <thead>\n",
       "    <tr style=\"text-align: right;\">\n",
       "      <th></th>\n",
       "      <th>item</th>\n",
       "      <th>paid</th>\n",
       "      <th>review</th>\n",
       "      <th>stars</th>\n",
       "      <th>time</th>\n",
       "      <th>user</th>\n",
       "      <th>trust_score</th>\n",
       "    </tr>\n",
       "  </thead>\n",
       "  <tbody>\n",
       "    <tr>\n",
       "      <th>0</th>\n",
       "      <td>pr-Sony_KV_36FS12__Standard_Televisions</td>\n",
       "      <td>1199</td>\n",
       "      <td>well when i graduated from college it didnt ta...</td>\n",
       "      <td>5</td>\n",
       "      <td>1012262400</td>\n",
       "      <td>pyros7</td>\n",
       "      <td>0.00000</td>\n",
       "    </tr>\n",
       "    <tr>\n",
       "      <th>1</th>\n",
       "      <td>Minolta_QMS_PagePro_1250E_Printers</td>\n",
       "      <td>260</td>\n",
       "      <td>i got this printer from minolta as a warranty ...</td>\n",
       "      <td>4</td>\n",
       "      <td>1027296000</td>\n",
       "      <td>fgb59h</td>\n",
       "      <td>0.00000</td>\n",
       "    </tr>\n",
       "    <tr>\n",
       "      <th>2</th>\n",
       "      <td>Sony_VAIO_PCG_K45_P4_538_3_2GHz_1MB_L2_533MHz_...</td>\n",
       "      <td>1800</td>\n",
       "      <td>although i love my vaio especially the gorgeou...</td>\n",
       "      <td>2</td>\n",
       "      <td>1201305600</td>\n",
       "      <td>bucho_ky</td>\n",
       "      <td>0.00000</td>\n",
       "    </tr>\n",
       "    <tr>\n",
       "      <th>3</th>\n",
       "      <td>Sony_VAIO_PCG_K45_P4_538_3_2GHz_1MB_L2_533MHz_...</td>\n",
       "      <td>1000</td>\n",
       "      <td>this is my first laptop and i bought it about ...</td>\n",
       "      <td>4</td>\n",
       "      <td>1118016000</td>\n",
       "      <td>redp944</td>\n",
       "      <td>0.00000</td>\n",
       "    </tr>\n",
       "    <tr>\n",
       "      <th>4</th>\n",
       "      <td>pr-Durabrand_CD-85_Personal_CD_Player</td>\n",
       "      <td>20</td>\n",
       "      <td>just recently my sony dej001 walkman died on m...</td>\n",
       "      <td>4</td>\n",
       "      <td>1149292800</td>\n",
       "      <td>spongebag7</td>\n",
       "      <td>0.00387</td>\n",
       "    </tr>\n",
       "  </tbody>\n",
       "</table>\n",
       "</div>"
      ],
      "text/plain": [
       "                                                item  paid  \\\n",
       "0            pr-Sony_KV_36FS12__Standard_Televisions  1199   \n",
       "1                 Minolta_QMS_PagePro_1250E_Printers   260   \n",
       "2  Sony_VAIO_PCG_K45_P4_538_3_2GHz_1MB_L2_533MHz_...  1800   \n",
       "3  Sony_VAIO_PCG_K45_P4_538_3_2GHz_1MB_L2_533MHz_...  1000   \n",
       "4              pr-Durabrand_CD-85_Personal_CD_Player    20   \n",
       "\n",
       "                                              review  stars        time  \\\n",
       "0  well when i graduated from college it didnt ta...      5  1012262400   \n",
       "1  i got this printer from minolta as a warranty ...      4  1027296000   \n",
       "2  although i love my vaio especially the gorgeou...      2  1201305600   \n",
       "3  this is my first laptop and i bought it about ...      4  1118016000   \n",
       "4  just recently my sony dej001 walkman died on m...      4  1149292800   \n",
       "\n",
       "         user  trust_score  \n",
       "0      pyros7      0.00000  \n",
       "1      fgb59h      0.00000  \n",
       "2    bucho_ky      0.00000  \n",
       "3     redp944      0.00000  \n",
       "4  spongebag7      0.00387  "
      ]
     },
     "execution_count": 487,
     "metadata": {},
     "output_type": "execute_result"
    }
   ],
   "source": [
    "result_df.head()"
   ]
  },
  {
   "cell_type": "code",
   "execution_count": 488,
   "metadata": {},
   "outputs": [],
   "source": [
    "#trust_df.to_csv('Dataset/trust_scores.csv')"
   ]
  },
  {
   "cell_type": "markdown",
   "metadata": {},
   "source": [
    "#Modified the rating based on trust factor\n",
    "#Logic: if trust > trust threshold value; rating will remain the same\n",
    "#if trust < trust threshold value then: if rating > 3, rating = rating - 0.5\n",
    "                                       #if rating < 3, rating = rating + 0.5\n",
    "#Considering trust threshold value as 0.00005 (random experiment)"
   ]
  },
  {
   "cell_type": "code",
   "execution_count": 489,
   "metadata": {},
   "outputs": [
    {
     "data": {
      "text/html": [
       "<div>\n",
       "<style scoped>\n",
       "    .dataframe tbody tr th:only-of-type {\n",
       "        vertical-align: middle;\n",
       "    }\n",
       "\n",
       "    .dataframe tbody tr th {\n",
       "        vertical-align: top;\n",
       "    }\n",
       "\n",
       "    .dataframe thead th {\n",
       "        text-align: right;\n",
       "    }\n",
       "</style>\n",
       "<table border=\"1\" class=\"dataframe\">\n",
       "  <thead>\n",
       "    <tr style=\"text-align: right;\">\n",
       "      <th></th>\n",
       "      <th>item</th>\n",
       "      <th>paid</th>\n",
       "      <th>review</th>\n",
       "      <th>stars</th>\n",
       "      <th>time</th>\n",
       "      <th>user</th>\n",
       "      <th>trust_score</th>\n",
       "      <th>stars2</th>\n",
       "    </tr>\n",
       "  </thead>\n",
       "  <tbody>\n",
       "    <tr>\n",
       "      <th>0</th>\n",
       "      <td>pr-Sony_KV_36FS12__Standard_Televisions</td>\n",
       "      <td>1199</td>\n",
       "      <td>well when i graduated from college it didnt ta...</td>\n",
       "      <td>5</td>\n",
       "      <td>1012262400</td>\n",
       "      <td>pyros7</td>\n",
       "      <td>0.000000</td>\n",
       "      <td>4.5</td>\n",
       "    </tr>\n",
       "    <tr>\n",
       "      <th>1</th>\n",
       "      <td>Minolta_QMS_PagePro_1250E_Printers</td>\n",
       "      <td>260</td>\n",
       "      <td>i got this printer from minolta as a warranty ...</td>\n",
       "      <td>4</td>\n",
       "      <td>1027296000</td>\n",
       "      <td>fgb59h</td>\n",
       "      <td>0.000000</td>\n",
       "      <td>3.5</td>\n",
       "    </tr>\n",
       "    <tr>\n",
       "      <th>2</th>\n",
       "      <td>Sony_VAIO_PCG_K45_P4_538_3_2GHz_1MB_L2_533MHz_...</td>\n",
       "      <td>1800</td>\n",
       "      <td>although i love my vaio especially the gorgeou...</td>\n",
       "      <td>2</td>\n",
       "      <td>1201305600</td>\n",
       "      <td>bucho_ky</td>\n",
       "      <td>0.000000</td>\n",
       "      <td>2.5</td>\n",
       "    </tr>\n",
       "    <tr>\n",
       "      <th>3</th>\n",
       "      <td>Sony_VAIO_PCG_K45_P4_538_3_2GHz_1MB_L2_533MHz_...</td>\n",
       "      <td>1000</td>\n",
       "      <td>this is my first laptop and i bought it about ...</td>\n",
       "      <td>4</td>\n",
       "      <td>1118016000</td>\n",
       "      <td>redp944</td>\n",
       "      <td>0.000000</td>\n",
       "      <td>3.5</td>\n",
       "    </tr>\n",
       "    <tr>\n",
       "      <th>4</th>\n",
       "      <td>pr-Durabrand_CD-85_Personal_CD_Player</td>\n",
       "      <td>20</td>\n",
       "      <td>just recently my sony dej001 walkman died on m...</td>\n",
       "      <td>4</td>\n",
       "      <td>1149292800</td>\n",
       "      <td>spongebag7</td>\n",
       "      <td>0.003870</td>\n",
       "      <td>4.0</td>\n",
       "    </tr>\n",
       "    <tr>\n",
       "      <th>5</th>\n",
       "      <td>pr-Sony_KV_36FS12__Standard_Televisions</td>\n",
       "      <td>1350</td>\n",
       "      <td>out of the box its an impressive television it...</td>\n",
       "      <td>4</td>\n",
       "      <td>982281600</td>\n",
       "      <td>daleb</td>\n",
       "      <td>0.003640</td>\n",
       "      <td>4.0</td>\n",
       "    </tr>\n",
       "    <tr>\n",
       "      <th>6</th>\n",
       "      <td>pr-Sony_KV_36FS12__Standard_Televisions</td>\n",
       "      <td>1200</td>\n",
       "      <td>when i first bought this tv i was pleased with...</td>\n",
       "      <td>1</td>\n",
       "      <td>1109116800</td>\n",
       "      <td>tarsyn</td>\n",
       "      <td>0.000000</td>\n",
       "      <td>1.5</td>\n",
       "    </tr>\n",
       "    <tr>\n",
       "      <th>7</th>\n",
       "      <td>pr-Sony_KV_36FS12__Standard_Televisions</td>\n",
       "      <td>1350</td>\n",
       "      <td>the only real gripe is just the insane weight ...</td>\n",
       "      <td>5</td>\n",
       "      <td>981158400</td>\n",
       "      <td>genkle1</td>\n",
       "      <td>0.000000</td>\n",
       "      <td>4.5</td>\n",
       "    </tr>\n",
       "    <tr>\n",
       "      <th>8</th>\n",
       "      <td>cmhd-Monitors-All-Nokia_447Xi_Plus</td>\n",
       "      <td>0</td>\n",
       "      <td>as much as i wanted a 19 at the time i just di...</td>\n",
       "      <td>4</td>\n",
       "      <td>1052352000</td>\n",
       "      <td>shadeybeep</td>\n",
       "      <td>0.000000</td>\n",
       "      <td>3.5</td>\n",
       "    </tr>\n",
       "    <tr>\n",
       "      <th>9</th>\n",
       "      <td>century-novelty-harry-potter-gryffindor-house-...</td>\n",
       "      <td>14</td>\n",
       "      <td>you dont need spells to keep you cozy this sea...</td>\n",
       "      <td>5</td>\n",
       "      <td>1337299200</td>\n",
       "      <td>kelsey34491</td>\n",
       "      <td>0.000011</td>\n",
       "      <td>4.5</td>\n",
       "    </tr>\n",
       "  </tbody>\n",
       "</table>\n",
       "</div>"
      ],
      "text/plain": [
       "                                                item  paid  \\\n",
       "0            pr-Sony_KV_36FS12__Standard_Televisions  1199   \n",
       "1                 Minolta_QMS_PagePro_1250E_Printers   260   \n",
       "2  Sony_VAIO_PCG_K45_P4_538_3_2GHz_1MB_L2_533MHz_...  1800   \n",
       "3  Sony_VAIO_PCG_K45_P4_538_3_2GHz_1MB_L2_533MHz_...  1000   \n",
       "4              pr-Durabrand_CD-85_Personal_CD_Player    20   \n",
       "5            pr-Sony_KV_36FS12__Standard_Televisions  1350   \n",
       "6            pr-Sony_KV_36FS12__Standard_Televisions  1200   \n",
       "7            pr-Sony_KV_36FS12__Standard_Televisions  1350   \n",
       "8                 cmhd-Monitors-All-Nokia_447Xi_Plus     0   \n",
       "9  century-novelty-harry-potter-gryffindor-house-...    14   \n",
       "\n",
       "                                              review  stars        time  \\\n",
       "0  well when i graduated from college it didnt ta...      5  1012262400   \n",
       "1  i got this printer from minolta as a warranty ...      4  1027296000   \n",
       "2  although i love my vaio especially the gorgeou...      2  1201305600   \n",
       "3  this is my first laptop and i bought it about ...      4  1118016000   \n",
       "4  just recently my sony dej001 walkman died on m...      4  1149292800   \n",
       "5  out of the box its an impressive television it...      4   982281600   \n",
       "6  when i first bought this tv i was pleased with...      1  1109116800   \n",
       "7  the only real gripe is just the insane weight ...      5   981158400   \n",
       "8  as much as i wanted a 19 at the time i just di...      4  1052352000   \n",
       "9  you dont need spells to keep you cozy this sea...      5  1337299200   \n",
       "\n",
       "          user  trust_score  stars2  \n",
       "0       pyros7     0.000000     4.5  \n",
       "1       fgb59h     0.000000     3.5  \n",
       "2     bucho_ky     0.000000     2.5  \n",
       "3      redp944     0.000000     3.5  \n",
       "4   spongebag7     0.003870     4.0  \n",
       "5        daleb     0.003640     4.0  \n",
       "6       tarsyn     0.000000     1.5  \n",
       "7      genkle1     0.000000     4.5  \n",
       "8   shadeybeep     0.000000     3.5  \n",
       "9  kelsey34491     0.000011     4.5  "
      ]
     },
     "execution_count": 489,
     "metadata": {},
     "output_type": "execute_result"
    }
   ],
   "source": [
    "trust_threshold = 0.00005\n",
    "\n",
    "condition1 = (result_df['trust_score'] < trust_threshold)\n",
    "\n",
    "# creating a temporary field 'stars2' for capturing intermediate rating scores based on different conditions\n",
    "result_df['stars2'] = result_df['stars'] + result_df[condition1]['stars'].apply(lambda x: -0.5  if x >= 3 else 0.5)\n",
    "result_df['stars2'].fillna(result_df['stars'], inplace = True)\n",
    "\n",
    "result_df.head(10)\n"
   ]
  },
  {
   "cell_type": "code",
   "execution_count": 490,
   "metadata": {},
   "outputs": [],
   "source": [
    "# copying final stars2 ratings into stars field and dropping the intermediate stars2 field\n",
    "\n",
    "result_df['stars'] = result_df['stars2']\n",
    "result_df.drop(columns='stars2', inplace = True)"
   ]
  },
  {
   "cell_type": "code",
   "execution_count": 491,
   "metadata": {},
   "outputs": [
    {
     "data": {
      "text/html": [
       "<div>\n",
       "<style scoped>\n",
       "    .dataframe tbody tr th:only-of-type {\n",
       "        vertical-align: middle;\n",
       "    }\n",
       "\n",
       "    .dataframe tbody tr th {\n",
       "        vertical-align: top;\n",
       "    }\n",
       "\n",
       "    .dataframe thead th {\n",
       "        text-align: right;\n",
       "    }\n",
       "</style>\n",
       "<table border=\"1\" class=\"dataframe\">\n",
       "  <thead>\n",
       "    <tr style=\"text-align: right;\">\n",
       "      <th></th>\n",
       "      <th>item</th>\n",
       "      <th>paid</th>\n",
       "      <th>review</th>\n",
       "      <th>stars</th>\n",
       "      <th>time</th>\n",
       "      <th>user</th>\n",
       "      <th>trust_score</th>\n",
       "    </tr>\n",
       "  </thead>\n",
       "  <tbody>\n",
       "    <tr>\n",
       "      <th>0</th>\n",
       "      <td>pr-Sony_KV_36FS12__Standard_Televisions</td>\n",
       "      <td>1199</td>\n",
       "      <td>well when i graduated from college it didnt ta...</td>\n",
       "      <td>4.5</td>\n",
       "      <td>1012262400</td>\n",
       "      <td>pyros7</td>\n",
       "      <td>0.00000</td>\n",
       "    </tr>\n",
       "    <tr>\n",
       "      <th>1</th>\n",
       "      <td>Minolta_QMS_PagePro_1250E_Printers</td>\n",
       "      <td>260</td>\n",
       "      <td>i got this printer from minolta as a warranty ...</td>\n",
       "      <td>3.5</td>\n",
       "      <td>1027296000</td>\n",
       "      <td>fgb59h</td>\n",
       "      <td>0.00000</td>\n",
       "    </tr>\n",
       "    <tr>\n",
       "      <th>2</th>\n",
       "      <td>Sony_VAIO_PCG_K45_P4_538_3_2GHz_1MB_L2_533MHz_...</td>\n",
       "      <td>1800</td>\n",
       "      <td>although i love my vaio especially the gorgeou...</td>\n",
       "      <td>2.5</td>\n",
       "      <td>1201305600</td>\n",
       "      <td>bucho_ky</td>\n",
       "      <td>0.00000</td>\n",
       "    </tr>\n",
       "    <tr>\n",
       "      <th>3</th>\n",
       "      <td>Sony_VAIO_PCG_K45_P4_538_3_2GHz_1MB_L2_533MHz_...</td>\n",
       "      <td>1000</td>\n",
       "      <td>this is my first laptop and i bought it about ...</td>\n",
       "      <td>3.5</td>\n",
       "      <td>1118016000</td>\n",
       "      <td>redp944</td>\n",
       "      <td>0.00000</td>\n",
       "    </tr>\n",
       "    <tr>\n",
       "      <th>4</th>\n",
       "      <td>pr-Durabrand_CD-85_Personal_CD_Player</td>\n",
       "      <td>20</td>\n",
       "      <td>just recently my sony dej001 walkman died on m...</td>\n",
       "      <td>4.0</td>\n",
       "      <td>1149292800</td>\n",
       "      <td>spongebag7</td>\n",
       "      <td>0.00387</td>\n",
       "    </tr>\n",
       "  </tbody>\n",
       "</table>\n",
       "</div>"
      ],
      "text/plain": [
       "                                                item  paid  \\\n",
       "0            pr-Sony_KV_36FS12__Standard_Televisions  1199   \n",
       "1                 Minolta_QMS_PagePro_1250E_Printers   260   \n",
       "2  Sony_VAIO_PCG_K45_P4_538_3_2GHz_1MB_L2_533MHz_...  1800   \n",
       "3  Sony_VAIO_PCG_K45_P4_538_3_2GHz_1MB_L2_533MHz_...  1000   \n",
       "4              pr-Durabrand_CD-85_Personal_CD_Player    20   \n",
       "\n",
       "                                              review  stars        time  \\\n",
       "0  well when i graduated from college it didnt ta...    4.5  1012262400   \n",
       "1  i got this printer from minolta as a warranty ...    3.5  1027296000   \n",
       "2  although i love my vaio especially the gorgeou...    2.5  1201305600   \n",
       "3  this is my first laptop and i bought it about ...    3.5  1118016000   \n",
       "4  just recently my sony dej001 walkman died on m...    4.0  1149292800   \n",
       "\n",
       "         user  trust_score  \n",
       "0      pyros7      0.00000  \n",
       "1      fgb59h      0.00000  \n",
       "2    bucho_ky      0.00000  \n",
       "3     redp944      0.00000  \n",
       "4  spongebag7      0.00387  "
      ]
     },
     "execution_count": 491,
     "metadata": {},
     "output_type": "execute_result"
    }
   ],
   "source": [
    "result_df.head()"
   ]
  },
  {
   "cell_type": "code",
   "execution_count": 464,
   "metadata": {},
   "outputs": [],
   "source": [
    "## Let's create a new dataframe which we'll use for predicting the user ratings\n",
    "\n",
    "df_new = result_df[['item','user','stars']]"
   ]
  },
  {
   "cell_type": "code",
   "execution_count": 465,
   "metadata": {},
   "outputs": [],
   "source": [
    "from surprise import SVD\n",
    "ratings_dict = {'user': result_df['user'],\n",
    "                'item': result_df['item'],\n",
    "                'stars': result_df['stars']}\n",
    "df2 = pd.DataFrame(ratings_dict)\n"
   ]
  },
  {
   "cell_type": "code",
   "execution_count": 466,
   "metadata": {},
   "outputs": [],
   "source": [
    "from surprise import Reader\n",
    "from surprise import Dataset\n",
    "reader = Reader(rating_scale=(1, 5))\n",
    "data = Dataset.load_from_df(df2[['user', 'item', 'stars']], reader)"
   ]
  },
  {
   "cell_type": "code",
   "execution_count": 467,
   "metadata": {},
   "outputs": [
    {
     "name": "stdout",
     "output_type": "stream",
     "text": [
      "Evaluating RMSE, MAE of algorithm SVD on 3 split(s).\n",
      "\n",
      "                  Fold 1  Fold 2  Fold 3  Mean    Std     \n",
      "RMSE (testset)    1.0907  1.0919  1.0901  1.0909  0.0008  \n",
      "MAE (testset)     0.9167  0.9176  0.9168  0.9170  0.0004  \n",
      "Fit time          9.92    10.25   10.16   10.11   0.14    \n",
      "Test time         0.90    0.62    0.61    0.71    0.14    \n"
     ]
    },
    {
     "data": {
      "text/plain": [
       "{'test_rmse': array([1.0907143 , 1.09193875, 1.09009411]),\n",
       " 'test_mae': array([0.91671141, 0.91760349, 0.91676896]),\n",
       " 'fit_time': (9.92244815826416, 10.248575925827026, 10.159053087234497),\n",
       " 'test_time': (0.9036331176757812, 0.6200001239776611, 0.6110877990722656)}"
      ]
     },
     "execution_count": 467,
     "metadata": {},
     "output_type": "execute_result"
    }
   ],
   "source": [
    "# Splitting the training set to train and test for validation\n",
    "from surprise.model_selection import train_test_split\n",
    "trainset, testset = train_test_split(data, test_size=.20)\n",
    "\n",
    "from surprise.model_selection import cross_validate\n",
    "algo = SVD()\n",
    "algo.fit(trainset)\n",
    "cross_validate(algo, data, measures=['RMSE', 'MAE'], cv=3, verbose=True)"
   ]
  },
  {
   "cell_type": "code",
   "execution_count": 468,
   "metadata": {},
   "outputs": [
    {
     "name": "stdout",
     "output_type": "stream",
     "text": [
      "RMSE: 1.0819\n",
      "1.0819456993970094\n",
      "MAE:  0.9077\n",
      "0.9076727488480838\n"
     ]
    }
   ],
   "source": [
    "from surprise import accuracy\n",
    "algo.fit(trainset)\n",
    "predictions = algo.test(testset)\n",
    "print(accuracy.rmse(predictions))\n",
    "print(accuracy.mae(predictions))"
   ]
  },
  {
   "cell_type": "code",
   "execution_count": 469,
   "metadata": {},
   "outputs": [
    {
     "name": "stdout",
     "output_type": "stream",
     "text": [
      "Evaluating RMSE, MAE of algorithm SVD on 3 split(s).\n",
      "\n",
      "                  Fold 1  Fold 2  Fold 3  Mean    Std     \n",
      "RMSE (testset)    1.3593  1.3546  1.3542  1.3561  0.0023  \n",
      "MAE (testset)     1.1349  1.1310  1.1305  1.1322  0.0020  \n",
      "Fit time          10.27   10.19   10.34   10.27   0.06    \n",
      "Test time         0.68    0.64    0.66    0.66    0.02    \n"
     ]
    },
    {
     "data": {
      "text/plain": [
       "{'test_rmse': array([1.35929818, 1.35464013, 1.35422148]),\n",
       " 'test_mae': array([1.13490507, 1.13104105, 1.13053954]),\n",
       " 'fit_time': (10.27334189414978, 10.187834978103638, 10.335368871688843),\n",
       " 'test_time': (0.6760389804840088, 0.6380343437194824, 0.6631879806518555)}"
      ]
     },
     "execution_count": 469,
     "metadata": {},
     "output_type": "execute_result"
    }
   ],
   "source": [
    "## Without including trust factor\n",
    "\n",
    "df_original = df1[['item','user','stars']]\n",
    "ratings_dict = {'user': df1['user'],\n",
    "                'item': df1['item'],\n",
    "                'stars': df1['stars']}\n",
    "df2 = pd.DataFrame(ratings_dict)\n",
    "reader = Reader(rating_scale=(1, 5))\n",
    "data = Dataset.load_from_df(df2[['user', 'item', 'stars']], reader)\n",
    "trainset, testset = train_test_split(data, test_size=.20)\n",
    "algo = SVD()\n",
    "algo.fit(trainset)\n",
    "cross_validate(algo, data, measures=['RMSE', 'MAE'], cv=3, verbose=True)"
   ]
  },
  {
   "cell_type": "code",
   "execution_count": 470,
   "metadata": {},
   "outputs": [
    {
     "name": "stdout",
     "output_type": "stream",
     "text": [
      "RMSE: 1.3520\n",
      "1.3519661056004055\n",
      "MAE:  1.1244\n",
      "1.124355684977491\n"
     ]
    }
   ],
   "source": [
    "algo.fit(trainset)\n",
    "predictions = algo.test(testset)\n",
    "print(accuracy.rmse(predictions))\n",
    "print(accuracy.mae(predictions))"
   ]
  },
  {
   "cell_type": "markdown",
   "metadata": {},
   "source": [
    "# Based on these calculations, we can clearly see a better RMSE and MAE score by considering trust scores into account"
   ]
  },
  {
   "cell_type": "code",
   "execution_count": 612,
   "metadata": {},
   "outputs": [],
   "source": [
    "# using trust-based recommendation for product recommendation: Brute force approach\n",
    "\n",
    "# Use Case scenario for the three users: ptiemann, kristinafh, spongebag7\n",
    "\n",
    "test_users = ['ptiemann', 'kristinafh', 'spongebag7']\n",
    "new_review_df = result_df[result_df['trust_score'] >= 0]"
   ]
  },
  {
   "cell_type": "code",
   "execution_count": 613,
   "metadata": {},
   "outputs": [
    {
     "data": {
      "text/html": [
       "<div>\n",
       "<style scoped>\n",
       "    .dataframe tbody tr th:only-of-type {\n",
       "        vertical-align: middle;\n",
       "    }\n",
       "\n",
       "    .dataframe tbody tr th {\n",
       "        vertical-align: top;\n",
       "    }\n",
       "\n",
       "    .dataframe thead th {\n",
       "        text-align: right;\n",
       "    }\n",
       "</style>\n",
       "<table border=\"1\" class=\"dataframe\">\n",
       "  <thead>\n",
       "    <tr style=\"text-align: right;\">\n",
       "      <th></th>\n",
       "      <th>item</th>\n",
       "      <th>paid</th>\n",
       "      <th>review</th>\n",
       "      <th>stars</th>\n",
       "      <th>time</th>\n",
       "      <th>user</th>\n",
       "      <th>trust_score</th>\n",
       "    </tr>\n",
       "  </thead>\n",
       "  <tbody>\n",
       "    <tr>\n",
       "      <th>0</th>\n",
       "      <td>pr-Sony_KV_36FS12__Standard_Televisions</td>\n",
       "      <td>1199</td>\n",
       "      <td>well when i graduated from college it didnt ta...</td>\n",
       "      <td>4.5</td>\n",
       "      <td>1012262400</td>\n",
       "      <td>pyros7</td>\n",
       "      <td>0.00000</td>\n",
       "    </tr>\n",
       "    <tr>\n",
       "      <th>1</th>\n",
       "      <td>Minolta_QMS_PagePro_1250E_Printers</td>\n",
       "      <td>260</td>\n",
       "      <td>i got this printer from minolta as a warranty ...</td>\n",
       "      <td>3.5</td>\n",
       "      <td>1027296000</td>\n",
       "      <td>fgb59h</td>\n",
       "      <td>0.00000</td>\n",
       "    </tr>\n",
       "    <tr>\n",
       "      <th>2</th>\n",
       "      <td>Sony_VAIO_PCG_K45_P4_538_3_2GHz_1MB_L2_533MHz_...</td>\n",
       "      <td>1800</td>\n",
       "      <td>although i love my vaio especially the gorgeou...</td>\n",
       "      <td>2.5</td>\n",
       "      <td>1201305600</td>\n",
       "      <td>bucho_ky</td>\n",
       "      <td>0.00000</td>\n",
       "    </tr>\n",
       "    <tr>\n",
       "      <th>3</th>\n",
       "      <td>Sony_VAIO_PCG_K45_P4_538_3_2GHz_1MB_L2_533MHz_...</td>\n",
       "      <td>1000</td>\n",
       "      <td>this is my first laptop and i bought it about ...</td>\n",
       "      <td>3.5</td>\n",
       "      <td>1118016000</td>\n",
       "      <td>redp944</td>\n",
       "      <td>0.00000</td>\n",
       "    </tr>\n",
       "    <tr>\n",
       "      <th>4</th>\n",
       "      <td>pr-Durabrand_CD-85_Personal_CD_Player</td>\n",
       "      <td>20</td>\n",
       "      <td>just recently my sony dej001 walkman died on m...</td>\n",
       "      <td>4.0</td>\n",
       "      <td>1149292800</td>\n",
       "      <td>spongebag7</td>\n",
       "      <td>0.00387</td>\n",
       "    </tr>\n",
       "  </tbody>\n",
       "</table>\n",
       "</div>"
      ],
      "text/plain": [
       "                                                item  paid  \\\n",
       "0            pr-Sony_KV_36FS12__Standard_Televisions  1199   \n",
       "1                 Minolta_QMS_PagePro_1250E_Printers   260   \n",
       "2  Sony_VAIO_PCG_K45_P4_538_3_2GHz_1MB_L2_533MHz_...  1800   \n",
       "3  Sony_VAIO_PCG_K45_P4_538_3_2GHz_1MB_L2_533MHz_...  1000   \n",
       "4              pr-Durabrand_CD-85_Personal_CD_Player    20   \n",
       "\n",
       "                                              review  stars        time  \\\n",
       "0  well when i graduated from college it didnt ta...    4.5  1012262400   \n",
       "1  i got this printer from minolta as a warranty ...    3.5  1027296000   \n",
       "2  although i love my vaio especially the gorgeou...    2.5  1201305600   \n",
       "3  this is my first laptop and i bought it about ...    3.5  1118016000   \n",
       "4  just recently my sony dej001 walkman died on m...    4.0  1149292800   \n",
       "\n",
       "         user  trust_score  \n",
       "0      pyros7      0.00000  \n",
       "1      fgb59h      0.00000  \n",
       "2    bucho_ky      0.00000  \n",
       "3     redp944      0.00000  \n",
       "4  spongebag7      0.00387  "
      ]
     },
     "execution_count": 613,
     "metadata": {},
     "output_type": "execute_result"
    }
   ],
   "source": [
    "result_df.head()"
   ]
  },
  {
   "cell_type": "code",
   "execution_count": 614,
   "metadata": {},
   "outputs": [],
   "source": [
    "path = 'Dataset/epinion_network_trust_new.csv'\n",
    "import pandas as pd\n",
    "df = pd.read_csv(path)"
   ]
  },
  {
   "cell_type": "code",
   "execution_count": 615,
   "metadata": {},
   "outputs": [
    {
     "data": {
      "text/html": [
       "<div>\n",
       "<style scoped>\n",
       "    .dataframe tbody tr th:only-of-type {\n",
       "        vertical-align: middle;\n",
       "    }\n",
       "\n",
       "    .dataframe tbody tr th {\n",
       "        vertical-align: top;\n",
       "    }\n",
       "\n",
       "    .dataframe thead th {\n",
       "        text-align: right;\n",
       "    }\n",
       "</style>\n",
       "<table border=\"1\" class=\"dataframe\">\n",
       "  <thead>\n",
       "    <tr style=\"text-align: right;\">\n",
       "      <th></th>\n",
       "      <th>user1</th>\n",
       "      <th>user2</th>\n",
       "    </tr>\n",
       "  </thead>\n",
       "  <tbody>\n",
       "    <tr>\n",
       "      <th>0</th>\n",
       "      <td>rcaarmsc07</td>\n",
       "      <td>spongebag7</td>\n",
       "    </tr>\n",
       "    <tr>\n",
       "      <th>1</th>\n",
       "      <td>blindsider</td>\n",
       "      <td>spongebag7</td>\n",
       "    </tr>\n",
       "    <tr>\n",
       "      <th>2</th>\n",
       "      <td>bruguru</td>\n",
       "      <td>spongebag7</td>\n",
       "    </tr>\n",
       "    <tr>\n",
       "      <th>3</th>\n",
       "      <td>speeddemon531</td>\n",
       "      <td>spongebag7</td>\n",
       "    </tr>\n",
       "    <tr>\n",
       "      <th>4</th>\n",
       "      <td>cyndia</td>\n",
       "      <td>spongebag7</td>\n",
       "    </tr>\n",
       "  </tbody>\n",
       "</table>\n",
       "</div>"
      ],
      "text/plain": [
       "           user1       user2\n",
       "0     rcaarmsc07  spongebag7\n",
       "1     blindsider  spongebag7\n",
       "2        bruguru  spongebag7\n",
       "3  speeddemon531  spongebag7\n",
       "4         cyndia  spongebag7"
      ]
     },
     "execution_count": 615,
     "metadata": {},
     "output_type": "execute_result"
    }
   ],
   "source": [
    "df.head()"
   ]
  },
  {
   "cell_type": "code",
   "execution_count": 617,
   "metadata": {},
   "outputs": [
    {
     "name": "stdout",
     "output_type": "stream",
     "text": [
      "trusted users for  ptiemann  in network:             user  trust_score\n",
      "577   gooberpyle     2.028350\n",
      "800    bradywahl     0.370168\n",
      "628       guv920     0.266514\n",
      "670     jdw52348     0.264456\n",
      "59       teanna3     0.256103\n",
      "25          hwz1     0.252101\n",
      "63   chrissamdog     0.249508\n",
      "76       charles     0.246713\n",
      "56      poseidon     0.242073\n",
      "206    cheerio77     0.168567\n",
      "Recommendations for  ptiemann\n",
      "[0              pr-Sonic_Blue_Rio_Chiba_256MB_MP3_Player\n",
      "44                                  Maclaren_Vogue_2002\n",
      "67    pr-Kenmore_721_sq_in_Cooking_Area_Gas_Grill_ET...\n",
      "66                         auto_Make-2003_Toyota_Avalon\n",
      "65    Minolta_Dimage_F100_Digital_Camera__Camera_277...\n",
      "Name: item, dtype: object, 0     5.0\n",
      "44    5.0\n",
      "67    5.0\n",
      "66    5.0\n",
      "65    5.0\n",
      "Name: stars, dtype: float64]\n",
      "-----------------------------------------------\n",
      "trusted users for  kristinafh  in network:                user  trust_score\n",
      "301   howard_creech     0.386543\n",
      "49          teanna3     0.256103\n",
      "25             hwz1     0.252101\n",
      "53      chrissamdog     0.249508\n",
      "68          charles     0.246713\n",
      "1107    bryan_carey     0.217933\n",
      "395        bops_mom     0.202389\n",
      "415        chaissja     0.199800\n",
      "26      surferdude7     0.187214\n",
      "442    sparkospunky     0.174600\n",
      "Recommendations for  kristinafh\n",
      "[78    pr-Kenmore_721_sq_in_Cooking_Area_Gas_Grill_ET...\n",
      "76    Minolta_Dimage_F100_Digital_Camera__Camera_277...\n",
      "74    Olympus_Camedia_C_400_Zoom_Digital_Camera_Digi...\n",
      "73                            auto_Make-2002_Honda_CR-V\n",
      "72    Nikon_N80_35mm_Autofocus_SLR_Camera__Camera_n8...\n",
      "Name: item, dtype: object, 78    5.0\n",
      "76    5.0\n",
      "74    5.0\n",
      "73    5.0\n",
      "72    5.0\n",
      "Name: stars, dtype: float64]\n",
      "-----------------------------------------------\n",
      "trusted users for  spongebag7  in network:            user  trust_score\n",
      "1    gooberpyle     2.028350\n",
      "12  bryan_carey     0.217933\n",
      "18  surferdude7     0.187214\n",
      "14   melissasrn     0.174595\n",
      "30      cntaur5     0.133896\n",
      "37    popsrocks     0.128013\n",
      "36      matta75     0.114317\n",
      "2        amyk49     0.112903\n",
      "24      wsmunch     0.069455\n",
      "21     freak369     0.066667\n",
      "Recommendations for  spongebag7\n",
      "[0              pr-Sonic_Blue_Rio_Chiba_256MB_MP3_Player\n",
      "38                       pr-ASUS_A8V_Deluxe_Motherboard\n",
      "64    Bandai_Tamagotchi_Connection_V_4_5_Original_Vi...\n",
      "33    pr-Canon-Powershot_G5_Camera_and_i9100D_Photo_...\n",
      "24    pr-Samsung_SyncMaster_171_V_17_in_Flat_Panel_T...\n",
      "Name: item, dtype: object, 0     5.0\n",
      "38    5.0\n",
      "64    5.0\n",
      "33    5.0\n",
      "24    5.0\n",
      "Name: stars, dtype: float64]\n",
      "-----------------------------------------------\n"
     ]
    }
   ],
   "source": [
    "for i in range(len(test_users)):\n",
    "    trustee_df = df[df['user1'] == test_users[i]]\n",
    "    trustee_df.drop(columns = 'user1', inplace = True)\n",
    "    trustee_df = pd.merge(trustee_df, trust_df, how='inner', left_on='user2', right_on='user')\n",
    "    trustee_df.drop(columns = 'user2', inplace = True)\n",
    "    trustee_df.drop_duplicates(inplace = True)\n",
    "    trustee_df = trustee_df.sort_values(by = 'trust_score', ascending=False)[:10]\n",
    "    print(\"trusted users for \",test_users[i],\" in network:\", trustee_df)\n",
    "    df_new = pd.merge(trustee_df, new_review_df, how='inner', on='user')\n",
    "    print(\"Recommendations for \", test_users[i])\n",
    "    i += 1\n",
    "    df_new = df_new.sort_values(by = ['stars'], ascending=[False])[:5]\n",
    "    new_list = [df_new['item'],df_new['stars']]\n",
    "    print(new_list)\n",
    "    print(\"-----------------------------------------------\")"
   ]
  },
  {
   "cell_type": "code",
   "execution_count": null,
   "metadata": {},
   "outputs": [],
   "source": []
  },
  {
   "cell_type": "code",
   "execution_count": null,
   "metadata": {},
   "outputs": [],
   "source": []
  }
 ],
 "metadata": {
  "kernelspec": {
   "display_name": "Python 3",
   "language": "python",
   "name": "python3"
  },
  "language_info": {
   "codemirror_mode": {
    "name": "ipython",
    "version": 3
   },
   "file_extension": ".py",
   "mimetype": "text/x-python",
   "name": "python",
   "nbconvert_exporter": "python",
   "pygments_lexer": "ipython3",
   "version": "3.7.2"
  }
 },
 "nbformat": 4,
 "nbformat_minor": 2
}
