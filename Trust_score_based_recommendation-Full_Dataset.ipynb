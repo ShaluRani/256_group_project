{
 "cells": [
  {
   "cell_type": "code",
   "execution_count": 1,
   "metadata": {},
   "outputs": [],
   "source": [
    "# Reference taken from in-class small graph demo\n",
    "\n",
    "import sys\n",
    "#sys.path.append('/home/012565046/.local/lib/python3.7/site-packages')\n",
    "sys.path.append('/home/012565046/.local/lib/python2.7/site-packages')\n",
    "\n",
    "import networkx as nx\n",
    "import matplotlib.pyplot as plt\n",
    "\n",
    "#G = nx.Graph()\n",
    "G = nx.DiGraph()"
   ]
  },
  {
   "cell_type": "code",
   "execution_count": 2,
   "metadata": {},
   "outputs": [],
   "source": [
    "path = 'Dataset/epinion_network_trust_new.csv'\n",
    "import pandas as pd\n",
    "df = pd.read_csv(path)"
   ]
  },
  {
   "cell_type": "code",
   "execution_count": 3,
   "metadata": {},
   "outputs": [],
   "source": [
    "#  https://stackoverflow.com/questions/28488559/networkx-duplicate-edges\n",
    "G = nx.from_pandas_edgelist(df, 'user1', 'user2')"
   ]
  },
  {
   "cell_type": "code",
   "execution_count": 4,
   "metadata": {},
   "outputs": [],
   "source": [
    "for index, row in df.iterrows():\n",
    "    G.add_edge(row['user1'], row['user2'])"
   ]
  },
  {
   "cell_type": "code",
   "execution_count": 5,
   "metadata": {},
   "outputs": [
    {
     "data": {
      "text/plain": [
       "'\\nplt.figure(figsize=(4,4))\\n#nx.draw_circular(G)\\n#nx.draw_random(G)\\nnx.draw_spectral(G, with_labels=True)\\nplt.show()\\n'"
      ]
     },
     "execution_count": 5,
     "metadata": {},
     "output_type": "execute_result"
    }
   ],
   "source": [
    "# https://networkx.github.io/documentation/stable/reference/drawing.html\n",
    "'''\n",
    "plt.figure(figsize=(4,4))\n",
    "#nx.draw_circular(G)\n",
    "#nx.draw_random(G)\n",
    "nx.draw_spectral(G, with_labels=True)\n",
    "plt.show()\n",
    "'''"
   ]
  },
  {
   "cell_type": "code",
   "execution_count": 6,
   "metadata": {},
   "outputs": [
    {
     "data": {
      "text/plain": [
       "\"\\nplt.figure(figsize=(15,10))\\n\\n#pos = nx.circular_layout(G)\\npos = nx.kamada_kawai_layout(G)\\nnx.draw_networkx_nodes(G, pos, node_color='red', edgecolors='black')\\nnx.draw_networkx_edges(G, pos)\\nplt.title('Node Graph for Trust Data')\\n\""
      ]
     },
     "execution_count": 6,
     "metadata": {},
     "output_type": "execute_result"
    }
   ],
   "source": [
    "# https://networkx.github.io/documentation/stable/reference/drawing.html\n",
    "# Section referred: Matplotlib, Graph Layout\n",
    "'''\n",
    "plt.figure(figsize=(15,10))\n",
    "\n",
    "#pos = nx.circular_layout(G)\n",
    "pos = nx.kamada_kawai_layout(G)\n",
    "nx.draw_networkx_nodes(G, pos, node_color='red', edgecolors='black')\n",
    "nx.draw_networkx_edges(G, pos)\n",
    "plt.title('Node Graph for Trust Data')\n",
    "'''"
   ]
  },
  {
   "cell_type": "code",
   "execution_count": 7,
   "metadata": {},
   "outputs": [
    {
     "name": "stdout",
     "output_type": "stream",
     "text": [
      "number of edges= 282882\n",
      "number of nodes= 48610\n"
     ]
    }
   ],
   "source": [
    "print(\"number of edges=\", len(G.edges()))\n",
    "print(\"number of nodes=\", len(G.nodes()))"
   ]
  },
  {
   "cell_type": "code",
   "execution_count": 8,
   "metadata": {},
   "outputs": [],
   "source": [
    "degree_centrality = nx.degree_centrality(G)"
   ]
  },
  {
   "cell_type": "code",
   "execution_count": 9,
   "metadata": {},
   "outputs": [],
   "source": [
    "closeness_centrality = nx.closeness_centrality(G)"
   ]
  },
  {
   "cell_type": "code",
   "execution_count": 10,
   "metadata": {},
   "outputs": [],
   "source": [
    "betweenness_centrality = nx.betweenness_centrality(G)"
   ]
  },
  {
   "cell_type": "code",
   "execution_count": 29,
   "metadata": {},
   "outputs": [
    {
     "data": {
      "text/plain": [
       "'\\npos = nx.spring_layout(G)\\nnode_color = [20000.0 * G.degree(v) for v in G]\\nnode_size =  [v * 10000 for v in degree_centrality.values()]\\nplt.figure(figsize=(15,10))\\nnx.draw_networkx(G, pos=pos, with_labels=False, node_color=node_color, node_size=node_size )\\n'"
      ]
     },
     "execution_count": 29,
     "metadata": {},
     "output_type": "execute_result"
    }
   ],
   "source": [
    "# reference: https://www.datacamp.com/community/tutorials/social-network-analysis-python\n",
    "'''\n",
    "pos = nx.spring_layout(G)\n",
    "node_color = [20000.0 * G.degree(v) for v in G]\n",
    "node_size =  [v * 10000 for v in degree_centrality.values()]\n",
    "plt.figure(figsize=(15,10))\n",
    "nx.draw_networkx(G, pos=pos, with_labels=False, node_color=node_color, node_size=node_size )\n",
    "'''"
   ]
  },
  {
   "cell_type": "code",
   "execution_count": 12,
   "metadata": {},
   "outputs": [
    {
     "data": {
      "text/plain": [
       "\"\\nplt.figure(figsize=(20,10))\\n\\nplt.subplot(1,3,1)\\npos = nx.spring_layout(G)\\nnode_color = [20000.0 * G.degree(v) for v in G]\\nnode_size =  [v * 10000 for v in degree_centrality.values()]\\nnx.draw_networkx(G, pos=pos, with_labels=False, node_color=node_color, node_size=node_size, arrowstyle = '>')\\n\\nplt.subplot(1,3,2)\\nnode_color = [20000.0 * G.degree(v) for v in G]\\nnode_size =  [v * 10000 for v in closeness_centrality.values()]\\nnx.draw_networkx(G, pos=pos, with_labels=False, node_color=node_color, node_size=node_size, arrowstyle = '>')\\n\\nplt.subplot(1,3,3)\\nnode_color = [20000.0 * G.degree(v) for v in G]\\nnode_size =  [v * 10000 for v in betweenness_centrality.values()]\\nnx.draw_networkx(G, pos=pos, with_labels=False, node_color=node_color, node_size=node_size, arrowstyle = '>')\\n\""
      ]
     },
     "execution_count": 12,
     "metadata": {},
     "output_type": "execute_result"
    }
   ],
   "source": [
    "# reference: https://www.datacamp.com/community/tutorials/social-network-analysis-python\n",
    "# https://matplotlib.org/3.1.1/gallery/recipes/create_subplots.html\n",
    "\n",
    "# creating subplots for different centrality measures\n",
    "'''\n",
    "plt.figure(figsize=(20,10))\n",
    "\n",
    "plt.subplot(1,3,1)\n",
    "pos = nx.spring_layout(G)\n",
    "node_color = [20000.0 * G.degree(v) for v in G]\n",
    "node_size =  [v * 10000 for v in degree_centrality.values()]\n",
    "nx.draw_networkx(G, pos=pos, with_labels=False, node_color=node_color, node_size=node_size, arrowstyle = '>')\n",
    "\n",
    "plt.subplot(1,3,2)\n",
    "node_color = [20000.0 * G.degree(v) for v in G]\n",
    "node_size =  [v * 10000 for v in closeness_centrality.values()]\n",
    "nx.draw_networkx(G, pos=pos, with_labels=False, node_color=node_color, node_size=node_size, arrowstyle = '>')\n",
    "\n",
    "plt.subplot(1,3,3)\n",
    "node_color = [20000.0 * G.degree(v) for v in G]\n",
    "node_size =  [v * 10000 for v in betweenness_centrality.values()]\n",
    "nx.draw_networkx(G, pos=pos, with_labels=False, node_color=node_color, node_size=node_size, arrowstyle = '>')\n",
    "'''\n"
   ]
  },
  {
   "cell_type": "code",
   "execution_count": 13,
   "metadata": {},
   "outputs": [
    {
     "name": "stdout",
     "output_type": "stream",
     "text": [
      "\n",
      "Degree Centrality\n"
     ]
    },
    {
     "data": {
      "text/plain": [
       "[('ptiemann', ' : ', 0.05282972289082269),\n",
       " ('nancy35c', ' : ', 0.032895142874776274),\n",
       " ('gooberpyle', ' : ', 0.03262770268880248),\n",
       " ('mszorak', ' : ', 0.031434508012919415),\n",
       " ('bryan_carey', ' : ', 0.031413935690921435),\n",
       " ('charles', ' : ', 0.025530251599498035),\n",
       " ('bonniesayers', ' : ', 0.023473019399699643),\n",
       " ('jo.com', ' : ', 0.023143862247731902),\n",
       " ('howard_creech', ' : ', 0.02312328992573392),\n",
       " ('kristinafh', ' : ', 0.022917566705754077)]"
      ]
     },
     "execution_count": 13,
     "metadata": {},
     "output_type": "execute_result"
    }
   ],
   "source": [
    "# Reference: https://thispointer.com/python-how-to-sort-a-dictionary-by-key-or-value/\n",
    "\n",
    "# printing top 10 users with highest degree centrality\n",
    "print(\"\\nDegree Centrality\")\n",
    "[(key , \" : \" , value) for (key, value) in sorted(degree_centrality.items() , reverse = True, key=lambda x: x[1])[:10]]\n"
   ]
  },
  {
   "cell_type": "code",
   "execution_count": 14,
   "metadata": {},
   "outputs": [
    {
     "name": "stdout",
     "output_type": "stream",
     "text": [
      "\n",
      "Closeness Centrality\n"
     ]
    },
    {
     "data": {
      "text/plain": [
       "[('nancy35c', ' : ', 0.3696107774118041),\n",
       " ('ptiemann', ' : ', 0.36882694635916463),\n",
       " ('charles', ' : ', 0.36509818206176103),\n",
       " ('bryan_carey', ' : ', 0.3582108431452485),\n",
       " ('teanna3', ' : ', 0.3573977285859478),\n",
       " ('jo.com', ' : ', 0.35615443562819915),\n",
       " ('surferdude7', ' : ', 0.35434187533230604),\n",
       " ('mrkstvns', ' : ', 0.3538411538726802),\n",
       " ('martineden', ' : ', 0.35261645764957156),\n",
       " ('jedikermit', ' : ', 0.35196257400766723)]"
      ]
     },
     "execution_count": 14,
     "metadata": {},
     "output_type": "execute_result"
    }
   ],
   "source": [
    "# printing top 10 users with highest closeness centrality\n",
    "print(\"\\nCloseness Centrality\")\n",
    "[(key , \" : \" , value) for (key, value) in sorted(closeness_centrality.items() , reverse = True, key=lambda x: x[1])[:10]]\n"
   ]
  },
  {
   "cell_type": "code",
   "execution_count": 15,
   "metadata": {},
   "outputs": [
    {
     "name": "stdout",
     "output_type": "stream",
     "text": [
      "\n",
      "Betweenness Centrality\n"
     ]
    },
    {
     "data": {
      "text/plain": [
       "[('ptiemann', ' : ', 0.057356282041780594),\n",
       " ('gooberpyle', ' : ', 0.04313088356747514),\n",
       " ('mszorak', ' : ', 0.03871148002242183),\n",
       " ('nancy35c', ' : ', 0.02857222076789126),\n",
       " ('charles', ' : ', 0.022706586927516034),\n",
       " ('howard_creech', ' : ', 0.017296042165237318),\n",
       " ('teanna3', ' : ', 0.016641443969387472),\n",
       " ('bryan_carey', ' : ', 0.015648574429234237),\n",
       " ('hwz1', ' : ', 0.01403480155918806),\n",
       " ('surferdude7', ' : ', 0.013926297201678942)]"
      ]
     },
     "execution_count": 15,
     "metadata": {},
     "output_type": "execute_result"
    }
   ],
   "source": [
    "# printing top 10 users with highest closeness centrality\n",
    "print(\"\\nBetweenness Centrality\")\n",
    "[(key , \" : \" , value) for (key, value) in sorted(betweenness_centrality.items() , reverse = True, key=lambda x: x[1])[:10]]\n"
   ]
  },
  {
   "cell_type": "code",
   "execution_count": 16,
   "metadata": {},
   "outputs": [],
   "source": [
    "# using pagerank, finding most trusted users\n",
    "trust_factor = nx.pagerank(G, alpha=1, tol = 1)\n"
   ]
  },
  {
   "cell_type": "code",
   "execution_count": 17,
   "metadata": {},
   "outputs": [
    {
     "name": "stdout",
     "output_type": "stream",
     "text": [
      "\n",
      "Trust Factor\n"
     ]
    },
    {
     "data": {
      "text/plain": [
       "[('gooberpyle', 0.02028350426271167),\n",
       " ('mszorak', 0.013023352236499398),\n",
       " ('ptiemann', 0.008035944236226049),\n",
       " ('pogokat', 0.0044581953788575875),\n",
       " ('nancy35c', 0.004111084444717879),\n",
       " ('howard_creech', 0.0038654291541512244),\n",
       " ('bradywahl', 0.0037016810534035833),\n",
       " ('mkaresh', 0.0034248346100743923),\n",
       " ('riseley', 0.002668720632803134),\n",
       " ('guv920', 0.0026651424828751384)]"
      ]
     },
     "execution_count": 17,
     "metadata": {},
     "output_type": "execute_result"
    }
   ],
   "source": [
    "# printing top 10 users with highest degree centrality\n",
    "\n",
    "trust_score = []\n",
    "\n",
    "print(\"\\nTrust Factor\")\n",
    "trust_score = [(key ,value) for key, value in sorted(trust_factor.items() , reverse = True, key=lambda x: x[1])]\n",
    "trust_score[:10]"
   ]
  },
  {
   "cell_type": "code",
   "execution_count": 18,
   "metadata": {},
   "outputs": [
    {
     "data": {
      "text/plain": [
       "tuple"
      ]
     },
     "execution_count": 18,
     "metadata": {},
     "output_type": "execute_result"
    }
   ],
   "source": [
    "type(trust_score[0])"
   ]
  },
  {
   "cell_type": "markdown",
   "metadata": {},
   "source": [
    "#Building the Recommender System based on trust score"
   ]
  },
  {
   "cell_type": "markdown",
   "metadata": {},
   "source": [
    "Adding the trust score field in the original review file\n",
    "Approach: Trust score will be added to the review rating and an overall normalized rating will be recalculated in the range 1-5\n",
    "The recommendations will be based on the new ratings"
   ]
  },
  {
   "cell_type": "code",
   "execution_count": 19,
   "metadata": {},
   "outputs": [
    {
     "data": {
      "text/plain": [
       "item      188484\n",
       "paid      188296\n",
       "review    188484\n",
       "stars     188484\n",
       "time      188484\n",
       "user      188483\n",
       "dtype: int64"
      ]
     },
     "execution_count": 19,
     "metadata": {},
     "output_type": "execute_result"
    }
   ],
   "source": [
    "filepath = 'Dataset/epinion_preprocessed.csv'\n",
    "import pandas as pd\n",
    "df1 = pd.read_csv(filepath)\n",
    "df1['user'] = df1['user'].str.lower()\n",
    "df1.count()"
   ]
  },
  {
   "cell_type": "code",
   "execution_count": 20,
   "metadata": {},
   "outputs": [
    {
     "data": {
      "text/html": [
       "<div>\n",
       "<style scoped>\n",
       "    .dataframe tbody tr th:only-of-type {\n",
       "        vertical-align: middle;\n",
       "    }\n",
       "\n",
       "    .dataframe tbody tr th {\n",
       "        vertical-align: top;\n",
       "    }\n",
       "\n",
       "    .dataframe thead th {\n",
       "        text-align: right;\n",
       "    }\n",
       "</style>\n",
       "<table border=\"1\" class=\"dataframe\">\n",
       "  <thead>\n",
       "    <tr style=\"text-align: right;\">\n",
       "      <th></th>\n",
       "      <th>item</th>\n",
       "      <th>paid</th>\n",
       "      <th>review</th>\n",
       "      <th>stars</th>\n",
       "      <th>time</th>\n",
       "      <th>user</th>\n",
       "    </tr>\n",
       "  </thead>\n",
       "  <tbody>\n",
       "    <tr>\n",
       "      <th>0</th>\n",
       "      <td>pr-Sony_KV_36FS12__Standard_Televisions</td>\n",
       "      <td>1199</td>\n",
       "      <td>well when i graduated from college it didnt ta...</td>\n",
       "      <td>5</td>\n",
       "      <td>1012262400</td>\n",
       "      <td>pyros7</td>\n",
       "    </tr>\n",
       "    <tr>\n",
       "      <th>1</th>\n",
       "      <td>Minolta_QMS_PagePro_1250E_Printers</td>\n",
       "      <td>260</td>\n",
       "      <td>i got this printer from minolta as a warranty ...</td>\n",
       "      <td>4</td>\n",
       "      <td>1027296000</td>\n",
       "      <td>fgb59h</td>\n",
       "    </tr>\n",
       "    <tr>\n",
       "      <th>2</th>\n",
       "      <td>Sony_VAIO_PCG_K45_P4_538_3_2GHz_1MB_L2_533MHz_...</td>\n",
       "      <td>1800</td>\n",
       "      <td>although i love my vaio especially the gorgeou...</td>\n",
       "      <td>2</td>\n",
       "      <td>1201305600</td>\n",
       "      <td>bucho_ky</td>\n",
       "    </tr>\n",
       "    <tr>\n",
       "      <th>3</th>\n",
       "      <td>Sony_VAIO_PCG_K45_P4_538_3_2GHz_1MB_L2_533MHz_...</td>\n",
       "      <td>1000</td>\n",
       "      <td>this is my first laptop and i bought it about ...</td>\n",
       "      <td>4</td>\n",
       "      <td>1118016000</td>\n",
       "      <td>redp944</td>\n",
       "    </tr>\n",
       "    <tr>\n",
       "      <th>4</th>\n",
       "      <td>pr-Durabrand_CD-85_Personal_CD_Player</td>\n",
       "      <td>20</td>\n",
       "      <td>just recently my sony dej001 walkman died on m...</td>\n",
       "      <td>4</td>\n",
       "      <td>1149292800</td>\n",
       "      <td>spongebag7</td>\n",
       "    </tr>\n",
       "  </tbody>\n",
       "</table>\n",
       "</div>"
      ],
      "text/plain": [
       "                                                item  paid  \\\n",
       "0            pr-Sony_KV_36FS12__Standard_Televisions  1199   \n",
       "1                 Minolta_QMS_PagePro_1250E_Printers   260   \n",
       "2  Sony_VAIO_PCG_K45_P4_538_3_2GHz_1MB_L2_533MHz_...  1800   \n",
       "3  Sony_VAIO_PCG_K45_P4_538_3_2GHz_1MB_L2_533MHz_...  1000   \n",
       "4              pr-Durabrand_CD-85_Personal_CD_Player    20   \n",
       "\n",
       "                                              review  stars        time  \\\n",
       "0  well when i graduated from college it didnt ta...      5  1012262400   \n",
       "1  i got this printer from minolta as a warranty ...      4  1027296000   \n",
       "2  although i love my vaio especially the gorgeou...      2  1201305600   \n",
       "3  this is my first laptop and i bought it about ...      4  1118016000   \n",
       "4  just recently my sony dej001 walkman died on m...      4  1149292800   \n",
       "\n",
       "         user  \n",
       "0      pyros7  \n",
       "1      fgb59h  \n",
       "2    bucho_ky  \n",
       "3     redp944  \n",
       "4  spongebag7  "
      ]
     },
     "execution_count": 20,
     "metadata": {},
     "output_type": "execute_result"
    }
   ],
   "source": [
    "df1.head()"
   ]
  },
  {
   "cell_type": "code",
   "execution_count": 21,
   "metadata": {},
   "outputs": [],
   "source": [
    "df1.drop_duplicates(inplace = True)"
   ]
  },
  {
   "cell_type": "code",
   "execution_count": 22,
   "metadata": {},
   "outputs": [],
   "source": [
    "trust_df = pd.DataFrame(trust_score)"
   ]
  },
  {
   "cell_type": "code",
   "execution_count": 23,
   "metadata": {},
   "outputs": [],
   "source": [
    "trust_df.columns = ['user','trust_score']"
   ]
  },
  {
   "cell_type": "code",
   "execution_count": 24,
   "metadata": {},
   "outputs": [
    {
     "data": {
      "text/html": [
       "<div>\n",
       "<style scoped>\n",
       "    .dataframe tbody tr th:only-of-type {\n",
       "        vertical-align: middle;\n",
       "    }\n",
       "\n",
       "    .dataframe tbody tr th {\n",
       "        vertical-align: top;\n",
       "    }\n",
       "\n",
       "    .dataframe thead th {\n",
       "        text-align: right;\n",
       "    }\n",
       "</style>\n",
       "<table border=\"1\" class=\"dataframe\">\n",
       "  <thead>\n",
       "    <tr style=\"text-align: right;\">\n",
       "      <th></th>\n",
       "      <th>user</th>\n",
       "      <th>trust_score</th>\n",
       "    </tr>\n",
       "  </thead>\n",
       "  <tbody>\n",
       "    <tr>\n",
       "      <th>0</th>\n",
       "      <td>gooberpyle</td>\n",
       "      <td>0.020284</td>\n",
       "    </tr>\n",
       "    <tr>\n",
       "      <th>1</th>\n",
       "      <td>mszorak</td>\n",
       "      <td>0.013023</td>\n",
       "    </tr>\n",
       "    <tr>\n",
       "      <th>2</th>\n",
       "      <td>ptiemann</td>\n",
       "      <td>0.008036</td>\n",
       "    </tr>\n",
       "    <tr>\n",
       "      <th>3</th>\n",
       "      <td>pogokat</td>\n",
       "      <td>0.004458</td>\n",
       "    </tr>\n",
       "    <tr>\n",
       "      <th>4</th>\n",
       "      <td>nancy35c</td>\n",
       "      <td>0.004111</td>\n",
       "    </tr>\n",
       "  </tbody>\n",
       "</table>\n",
       "</div>"
      ],
      "text/plain": [
       "         user  trust_score\n",
       "0  gooberpyle     0.020284\n",
       "1     mszorak     0.013023\n",
       "2    ptiemann     0.008036\n",
       "3     pogokat     0.004458\n",
       "4    nancy35c     0.004111"
      ]
     },
     "execution_count": 24,
     "metadata": {},
     "output_type": "execute_result"
    }
   ],
   "source": [
    "trust_df.head()"
   ]
  },
  {
   "cell_type": "code",
   "execution_count": 25,
   "metadata": {},
   "outputs": [],
   "source": [
    "result_df = pd.merge(df1, trust_df, how='left', on='user')"
   ]
  },
  {
   "cell_type": "code",
   "execution_count": 26,
   "metadata": {},
   "outputs": [
    {
     "data": {
      "text/html": [
       "<div>\n",
       "<style scoped>\n",
       "    .dataframe tbody tr th:only-of-type {\n",
       "        vertical-align: middle;\n",
       "    }\n",
       "\n",
       "    .dataframe tbody tr th {\n",
       "        vertical-align: top;\n",
       "    }\n",
       "\n",
       "    .dataframe thead th {\n",
       "        text-align: right;\n",
       "    }\n",
       "</style>\n",
       "<table border=\"1\" class=\"dataframe\">\n",
       "  <thead>\n",
       "    <tr style=\"text-align: right;\">\n",
       "      <th></th>\n",
       "      <th>item</th>\n",
       "      <th>paid</th>\n",
       "      <th>review</th>\n",
       "      <th>stars</th>\n",
       "      <th>time</th>\n",
       "      <th>user</th>\n",
       "      <th>trust_score</th>\n",
       "    </tr>\n",
       "  </thead>\n",
       "  <tbody>\n",
       "    <tr>\n",
       "      <th>0</th>\n",
       "      <td>pr-Sony_KV_36FS12__Standard_Televisions</td>\n",
       "      <td>1199</td>\n",
       "      <td>well when i graduated from college it didnt ta...</td>\n",
       "      <td>5</td>\n",
       "      <td>1012262400</td>\n",
       "      <td>pyros7</td>\n",
       "      <td>NaN</td>\n",
       "    </tr>\n",
       "    <tr>\n",
       "      <th>1</th>\n",
       "      <td>Minolta_QMS_PagePro_1250E_Printers</td>\n",
       "      <td>260</td>\n",
       "      <td>i got this printer from minolta as a warranty ...</td>\n",
       "      <td>4</td>\n",
       "      <td>1027296000</td>\n",
       "      <td>fgb59h</td>\n",
       "      <td>NaN</td>\n",
       "    </tr>\n",
       "    <tr>\n",
       "      <th>2</th>\n",
       "      <td>Sony_VAIO_PCG_K45_P4_538_3_2GHz_1MB_L2_533MHz_...</td>\n",
       "      <td>1800</td>\n",
       "      <td>although i love my vaio especially the gorgeou...</td>\n",
       "      <td>2</td>\n",
       "      <td>1201305600</td>\n",
       "      <td>bucho_ky</td>\n",
       "      <td>NaN</td>\n",
       "    </tr>\n",
       "    <tr>\n",
       "      <th>3</th>\n",
       "      <td>Sony_VAIO_PCG_K45_P4_538_3_2GHz_1MB_L2_533MHz_...</td>\n",
       "      <td>1000</td>\n",
       "      <td>this is my first laptop and i bought it about ...</td>\n",
       "      <td>4</td>\n",
       "      <td>1118016000</td>\n",
       "      <td>redp944</td>\n",
       "      <td>NaN</td>\n",
       "    </tr>\n",
       "    <tr>\n",
       "      <th>4</th>\n",
       "      <td>pr-Durabrand_CD-85_Personal_CD_Player</td>\n",
       "      <td>20</td>\n",
       "      <td>just recently my sony dej001 walkman died on m...</td>\n",
       "      <td>4</td>\n",
       "      <td>1149292800</td>\n",
       "      <td>spongebag7</td>\n",
       "      <td>3.872840e-05</td>\n",
       "    </tr>\n",
       "    <tr>\n",
       "      <th>5</th>\n",
       "      <td>pr-Sony_KV_36FS12__Standard_Televisions</td>\n",
       "      <td>1350</td>\n",
       "      <td>out of the box its an impressive television it...</td>\n",
       "      <td>4</td>\n",
       "      <td>982281600</td>\n",
       "      <td>daleb</td>\n",
       "      <td>3.637261e-05</td>\n",
       "    </tr>\n",
       "    <tr>\n",
       "      <th>6</th>\n",
       "      <td>pr-Sony_KV_36FS12__Standard_Televisions</td>\n",
       "      <td>1200</td>\n",
       "      <td>when i first bought this tv i was pleased with...</td>\n",
       "      <td>1</td>\n",
       "      <td>1109116800</td>\n",
       "      <td>tarsyn</td>\n",
       "      <td>NaN</td>\n",
       "    </tr>\n",
       "    <tr>\n",
       "      <th>7</th>\n",
       "      <td>pr-Sony_KV_36FS12__Standard_Televisions</td>\n",
       "      <td>1350</td>\n",
       "      <td>the only real gripe is just the insane weight ...</td>\n",
       "      <td>5</td>\n",
       "      <td>981158400</td>\n",
       "      <td>genkle1</td>\n",
       "      <td>NaN</td>\n",
       "    </tr>\n",
       "    <tr>\n",
       "      <th>8</th>\n",
       "      <td>cmhd-Monitors-All-Nokia_447Xi_Plus</td>\n",
       "      <td>0</td>\n",
       "      <td>as much as i wanted a 19 at the time i just di...</td>\n",
       "      <td>4</td>\n",
       "      <td>1052352000</td>\n",
       "      <td>shadeybeep</td>\n",
       "      <td>NaN</td>\n",
       "    </tr>\n",
       "    <tr>\n",
       "      <th>9</th>\n",
       "      <td>century-novelty-harry-potter-gryffindor-house-...</td>\n",
       "      <td>14</td>\n",
       "      <td>you dont need spells to keep you cozy this sea...</td>\n",
       "      <td>5</td>\n",
       "      <td>1337299200</td>\n",
       "      <td>kelsey34491</td>\n",
       "      <td>1.120905e-07</td>\n",
       "    </tr>\n",
       "    <tr>\n",
       "      <th>10</th>\n",
       "      <td>elec_Home_Receivers-Surround-Denon_DenonDRAPro...</td>\n",
       "      <td>150</td>\n",
       "      <td>i recently purchased this receiver used for 15...</td>\n",
       "      <td>5</td>\n",
       "      <td>1067212800</td>\n",
       "      <td>tweso</td>\n",
       "      <td>NaN</td>\n",
       "    </tr>\n",
       "    <tr>\n",
       "      <th>11</th>\n",
       "      <td>614232_JVC_GR_DVM75U_Digital_Camcorder</td>\n",
       "      <td>1000</td>\n",
       "      <td>i really enjoy using this video camera its rea...</td>\n",
       "      <td>5</td>\n",
       "      <td>1091577600</td>\n",
       "      <td>pash</td>\n",
       "      <td>NaN</td>\n",
       "    </tr>\n",
       "    <tr>\n",
       "      <th>12</th>\n",
       "      <td>614232_JVC_GR_DVM75U_Digital_Camcorder</td>\n",
       "      <td>600</td>\n",
       "      <td>sharp picture and superb sound quality in this...</td>\n",
       "      <td>5</td>\n",
       "      <td>1104019200</td>\n",
       "      <td>tenor_at_law</td>\n",
       "      <td>NaN</td>\n",
       "    </tr>\n",
       "    <tr>\n",
       "      <th>13</th>\n",
       "      <td>614232_JVC_GR_DVM75U_Digital_Camcorder</td>\n",
       "      <td>1000</td>\n",
       "      <td>i bought this camcorder about 6 months ago at ...</td>\n",
       "      <td>2</td>\n",
       "      <td>1023753600</td>\n",
       "      <td>audiophile</td>\n",
       "      <td>7.168995e-06</td>\n",
       "    </tr>\n",
       "    <tr>\n",
       "      <th>14</th>\n",
       "      <td>614232_JVC_GR_DVM75U_Digital_Camcorder</td>\n",
       "      <td>900</td>\n",
       "      <td>i purchased a grdvm75 in december and took it ...</td>\n",
       "      <td>4</td>\n",
       "      <td>1013126400</td>\n",
       "      <td>rkodama1</td>\n",
       "      <td>NaN</td>\n",
       "    </tr>\n",
       "    <tr>\n",
       "      <th>15</th>\n",
       "      <td>Imaginarium_55_Piece_ABC_Blocks_Canister</td>\n",
       "      <td>9.99</td>\n",
       "      <td>sometimes bells and whistles are not required ...</td>\n",
       "      <td>5</td>\n",
       "      <td>1130457600</td>\n",
       "      <td>bhweb22</td>\n",
       "      <td>6.490028e-04</td>\n",
       "    </tr>\n",
       "    <tr>\n",
       "      <th>16</th>\n",
       "      <td>Samsung_226BW_Monitor</td>\n",
       "      <td>299</td>\n",
       "      <td>not sure what the other guy was going on about...</td>\n",
       "      <td>5</td>\n",
       "      <td>1195516800</td>\n",
       "      <td>tjtoolmanz</td>\n",
       "      <td>2.057190e-05</td>\n",
       "    </tr>\n",
       "    <tr>\n",
       "      <th>17</th>\n",
       "      <td>Samsung_226BW_Monitor</td>\n",
       "      <td>300</td>\n",
       "      <td>when searching for the right lcd monitor there...</td>\n",
       "      <td>5</td>\n",
       "      <td>1181606400</td>\n",
       "      <td>rufster</td>\n",
       "      <td>7.561497e-05</td>\n",
       "    </tr>\n",
       "    <tr>\n",
       "      <th>18</th>\n",
       "      <td>Samsung_226BW_Monitor</td>\n",
       "      <td>190</td>\n",
       "      <td>this monitor is very sleek looking great price...</td>\n",
       "      <td>4</td>\n",
       "      <td>1203120000</td>\n",
       "      <td>shnits1234</td>\n",
       "      <td>NaN</td>\n",
       "    </tr>\n",
       "    <tr>\n",
       "      <th>19</th>\n",
       "      <td>Samsung_226BW_Monitor</td>\n",
       "      <td>250</td>\n",
       "      <td>rma update after 10 days samsung sent a replac...</td>\n",
       "      <td>3</td>\n",
       "      <td>1191888000</td>\n",
       "      <td>rhairless</td>\n",
       "      <td>NaN</td>\n",
       "    </tr>\n",
       "  </tbody>\n",
       "</table>\n",
       "</div>"
      ],
      "text/plain": [
       "                                                 item  paid  \\\n",
       "0             pr-Sony_KV_36FS12__Standard_Televisions  1199   \n",
       "1                  Minolta_QMS_PagePro_1250E_Printers   260   \n",
       "2   Sony_VAIO_PCG_K45_P4_538_3_2GHz_1MB_L2_533MHz_...  1800   \n",
       "3   Sony_VAIO_PCG_K45_P4_538_3_2GHz_1MB_L2_533MHz_...  1000   \n",
       "4               pr-Durabrand_CD-85_Personal_CD_Player    20   \n",
       "5             pr-Sony_KV_36FS12__Standard_Televisions  1350   \n",
       "6             pr-Sony_KV_36FS12__Standard_Televisions  1200   \n",
       "7             pr-Sony_KV_36FS12__Standard_Televisions  1350   \n",
       "8                  cmhd-Monitors-All-Nokia_447Xi_Plus     0   \n",
       "9   century-novelty-harry-potter-gryffindor-house-...    14   \n",
       "10  elec_Home_Receivers-Surround-Denon_DenonDRAPro...   150   \n",
       "11             614232_JVC_GR_DVM75U_Digital_Camcorder  1000   \n",
       "12             614232_JVC_GR_DVM75U_Digital_Camcorder   600   \n",
       "13             614232_JVC_GR_DVM75U_Digital_Camcorder  1000   \n",
       "14             614232_JVC_GR_DVM75U_Digital_Camcorder   900   \n",
       "15           Imaginarium_55_Piece_ABC_Blocks_Canister  9.99   \n",
       "16                              Samsung_226BW_Monitor   299   \n",
       "17                              Samsung_226BW_Monitor   300   \n",
       "18                              Samsung_226BW_Monitor   190   \n",
       "19                              Samsung_226BW_Monitor   250   \n",
       "\n",
       "                                               review  stars        time  \\\n",
       "0   well when i graduated from college it didnt ta...      5  1012262400   \n",
       "1   i got this printer from minolta as a warranty ...      4  1027296000   \n",
       "2   although i love my vaio especially the gorgeou...      2  1201305600   \n",
       "3   this is my first laptop and i bought it about ...      4  1118016000   \n",
       "4   just recently my sony dej001 walkman died on m...      4  1149292800   \n",
       "5   out of the box its an impressive television it...      4   982281600   \n",
       "6   when i first bought this tv i was pleased with...      1  1109116800   \n",
       "7   the only real gripe is just the insane weight ...      5   981158400   \n",
       "8   as much as i wanted a 19 at the time i just di...      4  1052352000   \n",
       "9   you dont need spells to keep you cozy this sea...      5  1337299200   \n",
       "10  i recently purchased this receiver used for 15...      5  1067212800   \n",
       "11  i really enjoy using this video camera its rea...      5  1091577600   \n",
       "12  sharp picture and superb sound quality in this...      5  1104019200   \n",
       "13  i bought this camcorder about 6 months ago at ...      2  1023753600   \n",
       "14  i purchased a grdvm75 in december and took it ...      4  1013126400   \n",
       "15  sometimes bells and whistles are not required ...      5  1130457600   \n",
       "16  not sure what the other guy was going on about...      5  1195516800   \n",
       "17  when searching for the right lcd monitor there...      5  1181606400   \n",
       "18  this monitor is very sleek looking great price...      4  1203120000   \n",
       "19  rma update after 10 days samsung sent a replac...      3  1191888000   \n",
       "\n",
       "            user   trust_score  \n",
       "0         pyros7           NaN  \n",
       "1         fgb59h           NaN  \n",
       "2       bucho_ky           NaN  \n",
       "3        redp944           NaN  \n",
       "4     spongebag7  3.872840e-05  \n",
       "5          daleb  3.637261e-05  \n",
       "6         tarsyn           NaN  \n",
       "7        genkle1           NaN  \n",
       "8     shadeybeep           NaN  \n",
       "9    kelsey34491  1.120905e-07  \n",
       "10         tweso           NaN  \n",
       "11          pash           NaN  \n",
       "12  tenor_at_law           NaN  \n",
       "13    audiophile  7.168995e-06  \n",
       "14      rkodama1           NaN  \n",
       "15       bhweb22  6.490028e-04  \n",
       "16    tjtoolmanz  2.057190e-05  \n",
       "17       rufster  7.561497e-05  \n",
       "18    shnits1234           NaN  \n",
       "19     rhairless           NaN  "
      ]
     },
     "execution_count": 26,
     "metadata": {},
     "output_type": "execute_result"
    }
   ],
   "source": [
    "result_df.head(20)"
   ]
  },
  {
   "cell_type": "code",
   "execution_count": 27,
   "metadata": {},
   "outputs": [],
   "source": [
    "trust_df.to_csv('Dataset/trust_scores.csv')"
   ]
  },
  {
   "cell_type": "code",
   "execution_count": null,
   "metadata": {},
   "outputs": [],
   "source": []
  }
 ],
 "metadata": {
  "kernelspec": {
   "display_name": "Python 3",
   "language": "python",
   "name": "python3"
  },
  "language_info": {
   "codemirror_mode": {
    "name": "ipython",
    "version": 3
   },
   "file_extension": ".py",
   "mimetype": "text/x-python",
   "name": "python",
   "nbconvert_exporter": "python",
   "pygments_lexer": "ipython3",
   "version": "3.7.0"
  }
 },
 "nbformat": 4,
 "nbformat_minor": 2
}
