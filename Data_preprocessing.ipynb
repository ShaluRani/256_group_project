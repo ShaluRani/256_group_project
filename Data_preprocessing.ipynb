{
 "cells": [
  {
   "cell_type": "code",
   "execution_count": 6,
   "metadata": {},
   "outputs": [],
   "source": [
    "import pandas as pd\n",
    "filepath = 'Dataset/'\n",
    "f = open(filepath + 'epinions.json', \"r\")\n",
    "test_list = []\n",
    "for line in f:\n",
    "    test_list.append(line)\n",
    "    "
   ]
  },
  {
   "cell_type": "code",
   "execution_count": 7,
   "metadata": {},
   "outputs": [
    {
     "name": "stdout",
     "output_type": "stream",
     "text": [
      "{'user': 'redp944', 'stars': 4.0, 'time': 1118016000, 'paid': 1000.0, 'item': 'Sony_VAIO_PCG_K45_P4_538_3_2GHz_1MB_L2_533MHz_FSB_512MB_80GB_DVD_CDRW_56K_NIC_802_11bg_15_4_WXGA_XB_XP_PC_Notebook', 'review': 'this is my first laptop and i bought it about two months ago as a portable desktop replacement to go with me when i travel i got it at best buy on sale for right at 1000 and it was the best deal on the market as far as i could tell'}\n",
      "\n",
      "\n",
      " {'user': 'shadeybeep', 'stars': 4.0, 'time': 1052352000, 'paid': 0.0, 'item': 'cmhd-Monitors-All-Nokia_447Xi_Plus', 'review': 'as much as i wanted a 19 at the time i just didnt have the money i bought this one for a very decent price somewhere around 1998 and here it is 2003 and it still works perfectly not a single problem with it the picture quality was excellent i took a risk buying it online not knowing much about nokias monitors but it turned out to be a good one'}\n",
      "\n"
     ]
    }
   ],
   "source": [
    "print(test_list[2])\n",
    "print(\"\\n\",test_list[8])"
   ]
  },
  {
   "cell_type": "code",
   "execution_count": 9,
   "metadata": {},
   "outputs": [
    {
     "name": "stderr",
     "output_type": "stream",
     "text": [
      "/Users/shalu/anaconda3/lib/python3.7/site-packages/pandas/core/frame.py:6211: FutureWarning: Sorting because non-concatenation axis is not aligned. A future version\n",
      "of pandas will change to not sort by default.\n",
      "\n",
      "To accept the future behavior, pass 'sort=False'.\n",
      "\n",
      "To retain the current behavior and silence the warning, pass 'sort=True'.\n",
      "\n",
      "  sort=sort)\n"
     ]
    }
   ],
   "source": [
    "# Reference for literal_eval taken from below link\n",
    "# https://stackoverflow.com/questions/16897122/python-str-object-has-no-attribute-iteritems\n",
    "import pandas as pd\n",
    "from ast import literal_eval\n",
    "filepath = 'Dataset/'\n",
    "with open(filepath + 'epinions.json', 'r') as f:\n",
    "    for line in f:\n",
    "        user_dict = literal_eval(line)\n",
    "        df = df.append(pd.DataFrame([user_dict]))"
   ]
  },
  {
   "cell_type": "code",
   "execution_count": 10,
   "metadata": {},
   "outputs": [
    {
     "data": {
      "text/plain": [
       "0         188478\n",
       "item      188478\n",
       "paid      188478\n",
       "review    188478\n",
       "stars     188478\n",
       "time      188478\n",
       "user      188478\n",
       "dtype: int64"
      ]
     },
     "execution_count": 10,
     "metadata": {},
     "output_type": "execute_result"
    }
   ],
   "source": [
    "df.count()"
   ]
  },
  {
   "cell_type": "code",
   "execution_count": 25,
   "metadata": {},
   "outputs": [
    {
     "data": {
      "text/html": [
       "<div>\n",
       "<style scoped>\n",
       "    .dataframe tbody tr th:only-of-type {\n",
       "        vertical-align: middle;\n",
       "    }\n",
       "\n",
       "    .dataframe tbody tr th {\n",
       "        vertical-align: top;\n",
       "    }\n",
       "\n",
       "    .dataframe thead th {\n",
       "        text-align: right;\n",
       "    }\n",
       "</style>\n",
       "<table border=\"1\" class=\"dataframe\">\n",
       "  <thead>\n",
       "    <tr style=\"text-align: right;\">\n",
       "      <th></th>\n",
       "      <th>0</th>\n",
       "      <th>item</th>\n",
       "      <th>paid</th>\n",
       "      <th>review</th>\n",
       "      <th>stars</th>\n",
       "      <th>time</th>\n",
       "      <th>user</th>\n",
       "    </tr>\n",
       "  </thead>\n",
       "  <tbody>\n",
       "    <tr>\n",
       "      <th>0</th>\n",
       "      <td>NaN</td>\n",
       "      <td>auto_Make-2002_Ford_Thunderbird</td>\n",
       "      <td>100000</td>\n",
       "      <td>ford has once again tried to bring back the th...</td>\n",
       "      <td>2.0</td>\n",
       "      <td>1.012608e+09</td>\n",
       "      <td>chris_baehr</td>\n",
       "    </tr>\n",
       "    <tr>\n",
       "      <th>0</th>\n",
       "      <td>NaN</td>\n",
       "      <td>auto_Make-2002_Ford_Thunderbird</td>\n",
       "      <td>44000</td>\n",
       "      <td>ford thunderbird the name alone says so much a...</td>\n",
       "      <td>4.0</td>\n",
       "      <td>1.016410e+09</td>\n",
       "      <td>BrianCam</td>\n",
       "    </tr>\n",
       "    <tr>\n",
       "      <th>0</th>\n",
       "      <td>NaN</td>\n",
       "      <td>auto_Make-2002_Ford_Thunderbird</td>\n",
       "      <td>41000</td>\n",
       "      <td>price is very high per features offered when y...</td>\n",
       "      <td>1.0</td>\n",
       "      <td>1.051747e+09</td>\n",
       "      <td>lanh</td>\n",
       "    </tr>\n",
       "    <tr>\n",
       "      <th>0</th>\n",
       "      <td>NaN</td>\n",
       "      <td>auto_Make-2002_Ford_Thunderbird</td>\n",
       "      <td>42155</td>\n",
       "      <td>after a 5year break ford finally restores its ...</td>\n",
       "      <td>5.0</td>\n",
       "      <td>1.029974e+09</td>\n",
       "      <td>spdster2002</td>\n",
       "    </tr>\n",
       "    <tr>\n",
       "      <th>0</th>\n",
       "      <td>NaN</td>\n",
       "      <td>auto_Make-2002_Ford_Thunderbird</td>\n",
       "      <td>38000</td>\n",
       "      <td>whats the best way to find out if you really l...</td>\n",
       "      <td>5.0</td>\n",
       "      <td>1.274227e+09</td>\n",
       "      <td>nylaphx</td>\n",
       "    </tr>\n",
       "  </tbody>\n",
       "</table>\n",
       "</div>"
      ],
      "text/plain": [
       "     0                             item    paid  \\\n",
       "0  NaN  auto_Make-2002_Ford_Thunderbird  100000   \n",
       "0  NaN  auto_Make-2002_Ford_Thunderbird   44000   \n",
       "0  NaN  auto_Make-2002_Ford_Thunderbird   41000   \n",
       "0  NaN  auto_Make-2002_Ford_Thunderbird   42155   \n",
       "0  NaN  auto_Make-2002_Ford_Thunderbird   38000   \n",
       "\n",
       "                                              review  stars          time  \\\n",
       "0  ford has once again tried to bring back the th...    2.0  1.012608e+09   \n",
       "0  ford thunderbird the name alone says so much a...    4.0  1.016410e+09   \n",
       "0  price is very high per features offered when y...    1.0  1.051747e+09   \n",
       "0  after a 5year break ford finally restores its ...    5.0  1.029974e+09   \n",
       "0  whats the best way to find out if you really l...    5.0  1.274227e+09   \n",
       "\n",
       "          user  \n",
       "0  chris_baehr  \n",
       "0     BrianCam  \n",
       "0         lanh  \n",
       "0  spdster2002  \n",
       "0      nylaphx  "
      ]
     },
     "execution_count": 25,
     "metadata": {},
     "output_type": "execute_result"
    }
   ],
   "source": [
    "df.tail()"
   ]
  },
  {
   "cell_type": "code",
   "execution_count": 12,
   "metadata": {},
   "outputs": [],
   "source": [
    "filepath = 'Dataset/network_trust.txt'\n",
    "import pandas as pd\n",
    "df2 = pd.read_csv(filepath, sep = '\\s+', header = None, names=['user1','trust','user2'])"
   ]
  },
  {
   "cell_type": "code",
   "execution_count": 24,
   "metadata": {},
   "outputs": [
    {
     "data": {
      "text/html": [
       "<div>\n",
       "<style scoped>\n",
       "    .dataframe tbody tr th:only-of-type {\n",
       "        vertical-align: middle;\n",
       "    }\n",
       "\n",
       "    .dataframe tbody tr th {\n",
       "        vertical-align: top;\n",
       "    }\n",
       "\n",
       "    .dataframe thead th {\n",
       "        text-align: right;\n",
       "    }\n",
       "</style>\n",
       "<table border=\"1\" class=\"dataframe\">\n",
       "  <thead>\n",
       "    <tr style=\"text-align: right;\">\n",
       "      <th></th>\n",
       "      <th>user1</th>\n",
       "      <th>trust</th>\n",
       "      <th>user2</th>\n",
       "    </tr>\n",
       "  </thead>\n",
       "  <tbody>\n",
       "    <tr>\n",
       "      <th>691887</th>\n",
       "      <td>susiee</td>\n",
       "      <td>trust</td>\n",
       "      <td>workingmomof2</td>\n",
       "    </tr>\n",
       "    <tr>\n",
       "      <th>691888</th>\n",
       "      <td>warriorray</td>\n",
       "      <td>trust</td>\n",
       "      <td>jh33194</td>\n",
       "    </tr>\n",
       "    <tr>\n",
       "      <th>691889</th>\n",
       "      <td>wideangle</td>\n",
       "      <td>trust</td>\n",
       "      <td>jeffdaddy</td>\n",
       "    </tr>\n",
       "    <tr>\n",
       "      <th>691890</th>\n",
       "      <td>dejata</td>\n",
       "      <td>trust</td>\n",
       "      <td>ready2bmom</td>\n",
       "    </tr>\n",
       "    <tr>\n",
       "      <th>691891</th>\n",
       "      <td>mummummum</td>\n",
       "      <td>trust</td>\n",
       "      <td>lrguis</td>\n",
       "    </tr>\n",
       "  </tbody>\n",
       "</table>\n",
       "</div>"
      ],
      "text/plain": [
       "             user1  trust          user2\n",
       "691887      susiee  trust  workingmomof2\n",
       "691888  warriorray  trust        jh33194\n",
       "691889   wideangle  trust      jeffdaddy\n",
       "691890      dejata  trust     ready2bmom\n",
       "691891   mummummum  trust         lrguis"
      ]
     },
     "execution_count": 24,
     "metadata": {},
     "output_type": "execute_result"
    }
   ],
   "source": [
    "df2.tail()"
   ]
  },
  {
   "cell_type": "code",
   "execution_count": 14,
   "metadata": {},
   "outputs": [
    {
     "data": {
      "text/plain": [
       "54787"
      ]
     },
     "execution_count": 14,
     "metadata": {},
     "output_type": "execute_result"
    }
   ],
   "source": [
    "df2['user1'].nunique()"
   ]
  },
  {
   "cell_type": "code",
   "execution_count": 15,
   "metadata": {},
   "outputs": [
    {
     "data": {
      "text/plain": [
       "60883"
      ]
     },
     "execution_count": 15,
     "metadata": {},
     "output_type": "execute_result"
    }
   ],
   "source": [
    "df2['user2'].nunique()"
   ]
  },
  {
   "cell_type": "code",
   "execution_count": 16,
   "metadata": {},
   "outputs": [
    {
     "data": {
      "text/plain": [
       "116260"
      ]
     },
     "execution_count": 16,
     "metadata": {},
     "output_type": "execute_result"
    }
   ],
   "source": [
    "df['user'].nunique()"
   ]
  },
  {
   "cell_type": "code",
   "execution_count": 17,
   "metadata": {},
   "outputs": [
    {
     "data": {
      "text/plain": [
       "'\\ni = 0\\nj = 0\\nfor j in range(len(df2)):\\n    #print(\"user:\", user, \" and user1:\", df2[\\'user1\\'][i])\\n    for i in range(len(df)):\\n        if df2[\\'user1\\'].iloc[j] == df[\\'user\\'].iloc[i] or df2[\\'user2\\'].iloc[j] == df[\\'user\\'].iloc[i]:\\n            print(df[\\'user\\'].iloc[i])\\n            #print(df2[\\'user2\\'][i])\\n            df2[\\'weight\\'] = 1\\n        else:\\n            df2[\\'weight\\'] = 0\\n        i += 1\\n    j += 1\\n    if(j == 300):\\n        break\\n'"
      ]
     },
     "execution_count": 17,
     "metadata": {},
     "output_type": "execute_result"
    }
   ],
   "source": [
    "'''\n",
    "i = 0\n",
    "j = 0\n",
    "for j in range(len(df2)):\n",
    "    #print(\"user:\", user, \" and user1:\", df2['user1'][i])\n",
    "    for i in range(len(df)):\n",
    "        if df2['user1'].iloc[j] == df['user'].iloc[i] or df2['user2'].iloc[j] == df['user'].iloc[i]:\n",
    "            print(df['user'].iloc[i])\n",
    "            #print(df2['user2'][i])\n",
    "            df2['weight'] = 1\n",
    "        else:\n",
    "            df2['weight'] = 0\n",
    "        i += 1\n",
    "    j += 1\n",
    "    if(j == 300):\n",
    "        break\n",
    "'''"
   ]
  },
  {
   "cell_type": "code",
   "execution_count": 18,
   "metadata": {},
   "outputs": [],
   "source": [
    "df.to_csv('Dataset/epinion_preprocessed.csv')"
   ]
  },
  {
   "cell_type": "code",
   "execution_count": 19,
   "metadata": {},
   "outputs": [],
   "source": [
    "df2.to_csv('Dataset/network_trust_preprocessed.csv')"
   ]
  },
  {
   "cell_type": "code",
   "execution_count": 20,
   "metadata": {},
   "outputs": [],
   "source": [
    "filepath = 'Dataset/network_trustedby.txt'\n",
    "import pandas as pd\n",
    "df3 = pd.read_csv(filepath, sep = '\\s+', header = None, names=['user1','trustedby','user2'])"
   ]
  },
  {
   "cell_type": "code",
   "execution_count": 21,
   "metadata": {},
   "outputs": [
    {
     "data": {
      "text/html": [
       "<div>\n",
       "<style scoped>\n",
       "    .dataframe tbody tr th:only-of-type {\n",
       "        vertical-align: middle;\n",
       "    }\n",
       "\n",
       "    .dataframe tbody tr th {\n",
       "        vertical-align: top;\n",
       "    }\n",
       "\n",
       "    .dataframe thead th {\n",
       "        text-align: right;\n",
       "    }\n",
       "</style>\n",
       "<table border=\"1\" class=\"dataframe\">\n",
       "  <thead>\n",
       "    <tr style=\"text-align: right;\">\n",
       "      <th></th>\n",
       "      <th>user1</th>\n",
       "      <th>trustedby</th>\n",
       "      <th>user2</th>\n",
       "    </tr>\n",
       "  </thead>\n",
       "  <tbody>\n",
       "    <tr>\n",
       "      <th>0</th>\n",
       "      <td>lavenderfruit</td>\n",
       "      <td>trustedby</td>\n",
       "      <td>kristinafh</td>\n",
       "    </tr>\n",
       "    <tr>\n",
       "      <th>1</th>\n",
       "      <td>Rosalyce</td>\n",
       "      <td>trustedby</td>\n",
       "      <td>cindee</td>\n",
       "    </tr>\n",
       "    <tr>\n",
       "      <th>2</th>\n",
       "      <td>Sharkie</td>\n",
       "      <td>trustedby</td>\n",
       "      <td>theeye</td>\n",
       "    </tr>\n",
       "    <tr>\n",
       "      <th>3</th>\n",
       "      <td>chiquita</td>\n",
       "      <td>trustedby</td>\n",
       "      <td>magenta321</td>\n",
       "    </tr>\n",
       "    <tr>\n",
       "      <th>4</th>\n",
       "      <td>ValerieG</td>\n",
       "      <td>trustedby</td>\n",
       "      <td>jabbrjwz2</td>\n",
       "    </tr>\n",
       "  </tbody>\n",
       "</table>\n",
       "</div>"
      ],
      "text/plain": [
       "           user1  trustedby       user2\n",
       "0  lavenderfruit  trustedby  kristinafh\n",
       "1       Rosalyce  trustedby      cindee\n",
       "2        Sharkie  trustedby      theeye\n",
       "3       chiquita  trustedby  magenta321\n",
       "4       ValerieG  trustedby   jabbrjwz2"
      ]
     },
     "execution_count": 21,
     "metadata": {},
     "output_type": "execute_result"
    }
   ],
   "source": [
    "df3.head()"
   ]
  },
  {
   "cell_type": "code",
   "execution_count": 22,
   "metadata": {},
   "outputs": [],
   "source": [
    "df3.to_csv('Dataset/network_trustedby_preprocessed.csv')"
   ]
  },
  {
   "cell_type": "code",
   "execution_count": 23,
   "metadata": {},
   "outputs": [],
   "source": [
    "result = pd.merge(df, df2, how='left', left_on='user', right_on='user1')"
   ]
  },
  {
   "cell_type": "code",
   "execution_count": null,
   "metadata": {},
   "outputs": [],
   "source": []
  }
 ],
 "metadata": {
  "kernelspec": {
   "display_name": "Python 3",
   "language": "python",
   "name": "python3"
  },
  "language_info": {
   "codemirror_mode": {
    "name": "ipython",
    "version": 3
   },
   "file_extension": ".py",
   "mimetype": "text/x-python",
   "name": "python",
   "nbconvert_exporter": "python",
   "pygments_lexer": "ipython3",
   "version": "3.7.2"
  }
 },
 "nbformat": 4,
 "nbformat_minor": 2
}
