{
 "cells": [
  {
   "cell_type": "code",
   "execution_count": 5,
   "metadata": {},
   "outputs": [],
   "source": [
    "#import libraries\n",
    "import numpy as np\n",
    "import pandas as pd\n",
    "import matplotlib.pyplot as plt\n",
    "%matplotlib inline\n",
    "import seaborn as sns\n",
    "sns.set_style('white')\n",
    "from sklearn.model_selection import train_test_split,cross_validate\n",
    "from sklearn import metrics\n",
    "from sklearn.metrics import confusion_matrix,classification_report, accuracy_score\n",
    "from sklearn.feature_extraction.text import  TfidfTransformer,CountVectorizer\n",
    "from sklearn.pipeline import Pipeline\n",
    "from sklearn.metrics import accuracy_score\n",
    "import string\n",
    "from sklearn.neighbors import KNeighborsClassifier\n",
    "from sklearn.naive_bayes import MultinomialNB\n",
    "from sklearn.ensemble import RandomForestClassifier\n",
    "from sklearn.tree import DecisionTreeClassifier\n",
    "from sklearn.svm import SVC\n",
    "# import xgboost\n",
    "# from xgboost import XGBClassifier"
   ]
  },
  {
   "cell_type": "code",
   "execution_count": null,
   "metadata": {},
   "outputs": [],
   "source": [
    "import pyspark\n",
    "from pyspark.ml.evaluation import RegressionEvaluator\n",
    "from pyspark.ml.recommendation import ALS\n",
    "from pyspark.sql import Row\n",
    "from pyspark import SparkContext\n",
    "from pyspark.sql import SQLContext\n",
    "from pyspark.sql.functions import col, pandas_udf,PandasUDFType\n",
    "from pyspark.sql import SparkSession\n",
    "import pyspark.sql.functions as F"
   ]
  },
  {
   "cell_type": "code",
   "execution_count": 5,
   "metadata": {},
   "outputs": [
    {
     "name": "stdout",
     "output_type": "stream",
     "text": [
      "Requirement already satisfied: xgboost in /home/013767416/.local/lib/python3.7/site-packages (0.90)\n",
      "Requirement already satisfied: scipy in /opt/ohpc/pub/apps/python3/3.7.0/lib/python3.7/site-packages (from xgboost) (1.1.0)\n",
      "Requirement already satisfied: numpy in /opt/ohpc/pub/apps/python3/3.7.0/lib/python3.7/site-packages (from xgboost) (1.15.1)\n",
      "\u001b[33mYou are using pip version 10.0.1, however version 19.3.1 is available.\n",
      "You should consider upgrading via the 'pip install --upgrade pip' command.\u001b[0m\n"
     ]
    }
   ],
   "source": [
    "import sys\n",
    "sys.path.append('/home/013767416/.local/lib/python2.7/site-packages')\n",
    "!pip3 install --user xgboost"
   ]
  },
  {
   "cell_type": "code",
   "execution_count": null,
   "metadata": {},
   "outputs": [],
   "source": [
    "# findspark.init('/home/013767416/.local/lib/python2.7/site-packages/pyspark/')"
   ]
  },
  {
   "cell_type": "code",
   "execution_count": 3,
   "metadata": {},
   "outputs": [
    {
     "name": "stderr",
     "output_type": "stream",
     "text": [
      "/opt/ohpc/pub/apps/python3/3.7.0/lib/python3.7/site-packages/nltk/twitter/__init__.py:20: UserWarning: The twython library has not been installed. Some functionality from the twitter package will not be available.\n",
      "  warnings.warn(\"The twython library has not been installed. \"\n"
     ]
    }
   ],
   "source": [
    "# NLTK libraries for text classification\n",
    "import nltk\n",
    "# nltk.download('stopwords')\n",
    "# nltk.download('averaged_perceptron_tagger')\n",
    "# nltk.download('wordnet')\n",
    "# nltk.download('crubadan')\n",
    "# nltk.download('punkt')\n",
    "# nltk.download('vader_lexicon')\n",
    "from nltk import pos_tag\n",
    "from nltk.corpus import stopwords\n",
    "from nltk.tokenize import WhitespaceTokenizer\n",
    "from nltk.stem import WordNetLemmatizer\n",
    "from nltk.corpus import wordnet\n",
    "import re\n",
    "from nltk.corpus import stopwords\n",
    "from nltk import sent_tokenize, word_tokenize\n",
    "from nltk.sentiment.vader import SentimentIntensityAnalyzer\n",
    "from nltk.tokenize import RegexpTokenizer"
   ]
  },
  {
   "cell_type": "code",
   "execution_count": null,
   "metadata": {},
   "outputs": [],
   "source": [
    "# Calling spark session to register application\n",
    "spark = SparkSession \\\n",
    "    .builder \\\n",
    "    .appName(\"Recom\") \\\n",
    "    .config(\"spark.recom.demo\", \"1\") \\\n",
    "    .getOrCreate()"
   ]
  },
  {
   "cell_type": "code",
   "execution_count": null,
   "metadata": {},
   "outputs": [],
   "source": [
    "# Load data using pyspark\n",
    "epinion_df_spark = spark.read \\\n",
    "    .format(\"csv\") \\\n",
    "    .option(\"header\", \"true\") \\\n",
    "    .option(\"inferSchema\", \"true\") \\\n",
    "    .load(\"../epinion_processed_final.csv\")"
   ]
  },
  {
   "cell_type": "code",
   "execution_count": null,
   "metadata": {},
   "outputs": [],
   "source": [
    "epinion_spark_df.head(3)"
   ]
  },
  {
   "cell_type": "code",
   "execution_count": 8,
   "metadata": {},
   "outputs": [
    {
     "data": {
      "text/html": [
       "<div>\n",
       "<style scoped>\n",
       "    .dataframe tbody tr th:only-of-type {\n",
       "        vertical-align: middle;\n",
       "    }\n",
       "\n",
       "    .dataframe tbody tr th {\n",
       "        vertical-align: top;\n",
       "    }\n",
       "\n",
       "    .dataframe thead th {\n",
       "        text-align: right;\n",
       "    }\n",
       "</style>\n",
       "<table border=\"1\" class=\"dataframe\">\n",
       "  <thead>\n",
       "    <tr style=\"text-align: right;\">\n",
       "      <th></th>\n",
       "      <th>item</th>\n",
       "      <th>paid</th>\n",
       "      <th>review</th>\n",
       "      <th>stars</th>\n",
       "      <th>time</th>\n",
       "      <th>user</th>\n",
       "      <th>cleaned_review</th>\n",
       "      <th>polarity</th>\n",
       "      <th>sentiment</th>\n",
       "      <th>textblob_polarity</th>\n",
       "      <th>textblob_sentiment</th>\n",
       "    </tr>\n",
       "  </thead>\n",
       "  <tbody>\n",
       "    <tr>\n",
       "      <th>0</th>\n",
       "      <td>pr-Sony_KV_36FS12__Standard_Televisions</td>\n",
       "      <td>1199</td>\n",
       "      <td>well when i graduated from college it didnt ta...</td>\n",
       "      <td>5</td>\n",
       "      <td>1012262400</td>\n",
       "      <td>pyros7</td>\n",
       "      <td>well graduate college didnt take long realize ...</td>\n",
       "      <td>0.8090</td>\n",
       "      <td>5</td>\n",
       "      <td>0.312500</td>\n",
       "      <td>4</td>\n",
       "    </tr>\n",
       "    <tr>\n",
       "      <th>1</th>\n",
       "      <td>Minolta_QMS_PagePro_1250E_Printers</td>\n",
       "      <td>260</td>\n",
       "      <td>i got this printer from minolta as a warranty ...</td>\n",
       "      <td>4</td>\n",
       "      <td>1027296000</td>\n",
       "      <td>fgb59h</td>\n",
       "      <td>get printer minolta warranty replacement minol...</td>\n",
       "      <td>-0.0987</td>\n",
       "      <td>3</td>\n",
       "      <td>0.270833</td>\n",
       "      <td>4</td>\n",
       "    </tr>\n",
       "    <tr>\n",
       "      <th>2</th>\n",
       "      <td>Sony_VAIO_PCG_K45_P4_538_3_2GHz_1MB_L2_533MHz_...</td>\n",
       "      <td>1800</td>\n",
       "      <td>although i love my vaio especially the gorgeou...</td>\n",
       "      <td>2</td>\n",
       "      <td>1201305600</td>\n",
       "      <td>bucho_ky</td>\n",
       "      <td>although love vaio especially gorgeous display...</td>\n",
       "      <td>0.8883</td>\n",
       "      <td>5</td>\n",
       "      <td>0.240000</td>\n",
       "      <td>4</td>\n",
       "    </tr>\n",
       "  </tbody>\n",
       "</table>\n",
       "</div>"
      ],
      "text/plain": [
       "                                                item  paid  \\\n",
       "0            pr-Sony_KV_36FS12__Standard_Televisions  1199   \n",
       "1                 Minolta_QMS_PagePro_1250E_Printers   260   \n",
       "2  Sony_VAIO_PCG_K45_P4_538_3_2GHz_1MB_L2_533MHz_...  1800   \n",
       "\n",
       "                                              review  stars        time  \\\n",
       "0  well when i graduated from college it didnt ta...      5  1012262400   \n",
       "1  i got this printer from minolta as a warranty ...      4  1027296000   \n",
       "2  although i love my vaio especially the gorgeou...      2  1201305600   \n",
       "\n",
       "       user                                     cleaned_review  polarity  \\\n",
       "0    pyros7  well graduate college didnt take long realize ...    0.8090   \n",
       "1    fgb59h  get printer minolta warranty replacement minol...   -0.0987   \n",
       "2  bucho_ky  although love vaio especially gorgeous display...    0.8883   \n",
       "\n",
       "   sentiment  textblob_polarity  textblob_sentiment  \n",
       "0          5           0.312500                   4  \n",
       "1          3           0.270833                   4  \n",
       "2          5           0.240000                   4  "
      ]
     },
     "execution_count": 8,
     "metadata": {},
     "output_type": "execute_result"
    }
   ],
   "source": [
    "# Load the preprocessed dataset \n",
    "epinion_data = pd.read_csv('epinion_processed_final.csv')\n",
    "epinion_data.head(3)"
   ]
  },
  {
   "cell_type": "markdown",
   "metadata": {},
   "source": [
    "##### Classifying the dataset and splitting it into the reviews and stars:"
   ]
  },
  {
   "cell_type": "code",
   "execution_count": 9,
   "metadata": {},
   "outputs": [
    {
     "name": "stdout",
     "output_type": "stream",
     "text": [
      "(117576, 11)\n"
     ]
    }
   ],
   "source": [
    "epinion_class = epinion_data[(epinion_data['sentiment']==1)  | (epinion_data['sentiment']==5 )]\n",
    "epinion_class.head()\n",
    "print(epinion_class.shape)"
   ]
  },
  {
   "cell_type": "markdown",
   "metadata": {},
   "source": [
    "#### We will be using 2 things from sklearn:\n",
    "- A Vectorizer, which transforms our text into number-based representations that are more computer-friendly as computers don't like text, and \n",
    "- A Classifier, which is the statistical model that we'll train with our dataset. \n",
    "- We will compare the results of two different vectorizers — a simple \"Count\" vectorizer and a more complicated \"TF-IDF\" (Term Frequency, Inverse Document Frequency) "
   ]
  },
  {
   "cell_type": "code",
   "execution_count": 14,
   "metadata": {},
   "outputs": [
    {
     "data": {
      "image/png": "[encoded data removed]",
      "text/plain": [
       "<IPython.core.display.Image object>"
      ]
     },
     "execution_count": 14,
     "metadata": {},
     "output_type": "execute_result"
    }
   ],
   "source": [
    "from IPython.display import Image\n",
    "Image(filename='image.png')"
   ]
  },
  {
   "cell_type": "markdown",
   "metadata": {},
   "source": [
    "### Feature Engieering using Bag of Words\n",
    "\n",
    "- Here we are dealing with reviews and their respective rating. \n",
    "- But we directly can't use this review for our model. \n",
    "- We need to convert the review into vectors of numbers.\n",
    "\n",
    "\n",
    "- Bag-of-words model(BoW ) : \n",
    "   - Bow is the simplest way of extracting features from the text. \n",
    "   - BoW will convert review into the matrix of occurrence of words within a review. \n",
    "   - This model concerns about whether given words occurred or not in the document.\n",
    "\n",
    "Example: There are three documents:\n",
    "\n",
    "Doc 1: I love dogs. \n",
    "Doc 2: I hate dogs and knitting. \n",
    "Doc 3: Knitting is my hobby and passion.\n",
    "\n",
    "- We can create a matrix of document and words by counting the occurrence of words in the given document. \n",
    "- This matrix is known as Document-Term Matrix(DTM).\n",
    "- This matrix is using a single word. It can be a combination of two or more words, which is called a bigram or trigram model and the general approach is called the n-gram model.\n",
    "\n",
    "we can generate document term matrix by using scikit-learn's CountVectorizer."
   ]
  },
  {
   "cell_type": "markdown",
   "metadata": {},
   "source": [
    "##### Vectorization of the whole review set"
   ]
  },
  {
   "cell_type": "code",
   "execution_count": 8,
   "metadata": {},
   "outputs": [],
   "source": [
    "\n",
    "# Seperate the dataset into X and Y for prediction\n",
    "x = epinion_class['cleaned_review']\n",
    "y = epinion_class['sentiment']\n",
    "\n",
    "cv = CountVectorizer(lowercase=True,stop_words='english',ngram_range = (1,1))\n",
    "X = cv.fit_transform(x)\n"
   ]
  },
  {
   "cell_type": "markdown",
   "metadata": {},
   "source": [
    "##### Split train and test set\n",
    "- To understand model performance, dividing the dataset into a training set and a test set is a good strategy."
   ]
  },
  {
   "cell_type": "code",
   "execution_count": 9,
   "metadata": {},
   "outputs": [],
   "source": [
    "x_train,x_test,y_train,y_test = train_test_split(X,y,test_size=0.2,random_state=101)"
   ]
  },
  {
   "cell_type": "markdown",
   "metadata": {},
   "source": [
    "### Now checking different Machine Algorithms to see which gives the best performance."
   ]
  },
  {
   "cell_type": "markdown",
   "metadata": {},
   "source": [
    "Building the Text Classification Mode\n",
    "- Import the MultinomialNB module and create the Multinomial Naive Bayes classifier object using MultinomialNB() function.\n",
    "- Fit the model on a train set using fit() and perform prediction on the test set using predict()."
   ]
  },
  {
   "cell_type": "markdown",
   "metadata": {},
   "source": [
    "##### Multinomial Naive Bayes \n",
    "\n",
    "- The multinomial Naive Bayes classifier is suitable for classification with discrete features (e.g., word counts for text classification). \n",
    "- The multinomial distribution normally requires integer feature counts. However, in practice, fractional counts such as tf-idf may also work."
   ]
  },
  {
   "cell_type": "code",
   "execution_count": 10,
   "metadata": {},
   "outputs": [],
   "source": [
    "mnb_clf = MultinomialNB()\n",
    "#fit the model\n",
    "mnb_clf.fit(x_train,y_train)\n",
    "#predict the output\n",
    "y_predicted_mnb = mnb_clf.predict(x_test)"
   ]
  },
  {
   "cell_type": "code",
   "execution_count": 11,
   "metadata": {},
   "outputs": [
    {
     "name": "stdout",
     "output_type": "stream",
     "text": [
      "Confusion Matrix for Multinomial Naive Bayes:\n",
      "[[ 1567   913]\n",
      " [ 1351 19685]]\n",
      "\n",
      "Classification Report:\n",
      "             precision    recall  f1-score   support\n",
      "\n",
      "          1       0.54      0.63      0.58      2480\n",
      "          5       0.96      0.94      0.95     21036\n",
      "\n",
      "avg / total       0.91      0.90      0.91     23516\n",
      "\n"
     ]
    }
   ],
   "source": [
    "print(\"Confusion Matrix for Multinomial Naive Bayes:\")\n",
    "print(confusion_matrix(y_test,y_predicted_mnb))\n",
    "print()\n",
    "print(\"Classification Report:\")\n",
    "print(classification_report(y_test,y_predicted_mnb))"
   ]
  },
  {
   "cell_type": "markdown",
   "metadata": {},
   "source": [
    "#####  Random Forest Classifier"
   ]
  },
  {
   "cell_type": "code",
   "execution_count": 12,
   "metadata": {},
   "outputs": [],
   "source": [
    "rf_clf = RandomForestClassifier()\n",
    "#fit the model\n",
    "rf_clf.fit(x_train,y_train)\n",
    "#predict the output\n",
    "y_predicted_rf = rf_clf.predict(x_test)"
   ]
  },
  {
   "cell_type": "code",
   "execution_count": 13,
   "metadata": {},
   "outputs": [
    {
     "name": "stdout",
     "output_type": "stream",
     "text": [
      "Confusion Matrix for Random Forest:\n",
      "[[  751  1729]\n",
      " [  199 20837]]\n",
      "\n",
      "Classification Report:\n",
      "             precision    recall  f1-score   support\n",
      "\n",
      "          1       0.79      0.30      0.44      2480\n",
      "          5       0.92      0.99      0.96     21036\n",
      "\n",
      "avg / total       0.91      0.92      0.90     23516\n",
      "\n"
     ]
    }
   ],
   "source": [
    "print(\"Confusion Matrix for Random Forest:\")\n",
    "print(confusion_matrix(y_test,y_predicted_rf))\n",
    "print()\n",
    "print(\"Classification Report:\")\n",
    "print(classification_report(y_test,y_predicted_rf))"
   ]
  },
  {
   "cell_type": "markdown",
   "metadata": {},
   "source": [
    "##### Decision Tree\n",
    "- Decision Trees gives us more insight into how the model work.\n",
    "- We can take a quick look at the rules it produces to find patterns in dataset that we might not have known about.\n",
    "- https://www.codementor.io/blog/text-classification-6mmol0q8oj"
   ]
  },
  {
   "cell_type": "code",
   "execution_count": 14,
   "metadata": {},
   "outputs": [],
   "source": [
    "dt_clf = DecisionTreeClassifier()\n",
    "#fit the model\n",
    "dt_clf.fit(x_train,y_train)\n",
    "#predict the output\n",
    "y_predicted_dt = dt_clf.predict(x_test)  "
   ]
  },
  {
   "cell_type": "code",
   "execution_count": 15,
   "metadata": {},
   "outputs": [
    {
     "name": "stdout",
     "output_type": "stream",
     "text": [
      "Confusion Matrix for Decision Tree:\n",
      "[[ 1458  1022]\n",
      " [  895 20141]]\n",
      "\n",
      "Classification Report:\n",
      "             precision    recall  f1-score   support\n",
      "\n",
      "          1       0.62      0.59      0.60      2480\n",
      "          5       0.95      0.96      0.95     21036\n",
      "\n",
      "avg / total       0.92      0.92      0.92     23516\n",
      "\n"
     ]
    }
   ],
   "source": [
    "print(\"Confusion Matrix for Decision Tree:\")\n",
    "print(confusion_matrix(y_test,y_predicted_dt))\n",
    "print()\n",
    "print(\"Classification Report:\")\n",
    "print(classification_report(y_test,y_predicted_dt))"
   ]
  },
  {
   "cell_type": "markdown",
   "metadata": {},
   "source": [
    "##### Support Vector Machines\n",
    "- Support Vector Machines are very powerful and can scale to larger data sets\n",
    "- But they are also more complicated and it can be difficult to know what patterns they rely on."
   ]
  },
  {
   "cell_type": "code",
   "execution_count": 16,
   "metadata": {},
   "outputs": [],
   "source": [
    "clf_svc = SVC(random_state=101)\n",
    "#fit the model\n",
    "clf_svc.fit(x_train,y_train)\n",
    "#predict the output\n",
    "y_predicted_svc = clf_svc.predict(x_test)   "
   ]
  },
  {
   "cell_type": "code",
   "execution_count": 17,
   "metadata": {},
   "outputs": [
    {
     "name": "stdout",
     "output_type": "stream",
     "text": [
      "Confusion Matrix for Support Vector Machines:\n",
      "[[    0  2480]\n",
      " [    0 21036]]\n",
      "\n",
      "Classification Report:\n",
      "             precision    recall  f1-score   support\n",
      "\n",
      "          1       0.00      0.00      0.00      2480\n",
      "          5       0.89      1.00      0.94     21036\n",
      "\n",
      "avg / total       0.80      0.89      0.84     23516\n",
      "\n"
     ]
    },
    {
     "name": "stderr",
     "output_type": "stream",
     "text": [
      "/opt/ohpc/pub/apps/python3/3.7.0/lib/python3.7/site-packages/sklearn/metrics/classification.py:1135: UndefinedMetricWarning: Precision and F-score are ill-defined and being set to 0.0 in labels with no predicted samples.\n",
      "  'precision', 'predicted', average, warn_for)\n"
     ]
    }
   ],
   "source": [
    "print(\"Confusion Matrix for Support Vector Machines:\")\n",
    "print(confusion_matrix(y_test,y_predicted_svc))\n",
    "print()\n",
    "print(\"Classification Report:\")\n",
    "print(classification_report(y_test,y_predicted_svc))"
   ]
  },
  {
   "cell_type": "markdown",
   "metadata": {},
   "source": [
    "#####  K Nearest Neighbour"
   ]
  },
  {
   "cell_type": "code",
   "execution_count": 18,
   "metadata": {},
   "outputs": [],
   "source": [
    "# K Nearest Neighbour Algorithm\n",
    "clf_knn = KNeighborsClassifier(n_neighbors=10)\n",
    "#fit the model\n",
    "clf_knn.fit(x_train,y_train)\n",
    "#predict the output\n",
    "y_predicted_knn = clf_knn.predict(x_test)"
   ]
  },
  {
   "cell_type": "code",
   "execution_count": 19,
   "metadata": {},
   "outputs": [
    {
     "name": "stdout",
     "output_type": "stream",
     "text": [
      "Confusion Matrix for KNN:\n",
      "[[  285  2195]\n",
      " [  100 20936]]\n",
      "\n",
      "Classification Report:\n",
      "             precision    recall  f1-score   support\n",
      "\n",
      "          1       0.74      0.11      0.20      2480\n",
      "          5       0.91      1.00      0.95     21036\n",
      "\n",
      "avg / total       0.89      0.90      0.87     23516\n",
      "\n"
     ]
    }
   ],
   "source": [
    "print(\"Confusion Matrix for KNN:\")\n",
    "print(confusion_matrix(y_test,y_predicted_knn))\n",
    "print()\n",
    "print(\"Classification Report:\")\n",
    "print(classification_report(y_test,y_predicted_knn))"
   ]
  },
  {
   "cell_type": "markdown",
   "metadata": {},
   "source": [
    "##### Xgboost"
   ]
  },
  {
   "cell_type": "code",
   "execution_count": 20,
   "metadata": {},
   "outputs": [
    {
     "name": "stderr",
     "output_type": "stream",
     "text": [
      "/opt/ohpc/pub/apps/python3/3.7.0/lib/python3.7/site-packages/sklearn/preprocessing/label.py:151: DeprecationWarning: The truth value of an empty array is ambiguous. Returning False, but in future this will result in an error. Use `array.size > 0` to check that an array is not empty.\n",
      "  if diff:\n"
     ]
    }
   ],
   "source": [
    "xgb_clf = XGBClassifier()\n",
    "#fit the model\n",
    "xgb_clf.fit(x_train,y_train)\n",
    "#predict the output\n",
    "y_predicted_xgb = xgb_clf.predict(x_test)"
   ]
  },
  {
   "cell_type": "code",
   "execution_count": 21,
   "metadata": {},
   "outputs": [
    {
     "name": "stdout",
     "output_type": "stream",
     "text": [
      "Confusion Matrix for KNN:\n",
      "[[  854  1626]\n",
      " [  109 20927]]\n",
      "\n",
      "Classification Report:\n",
      "             precision    recall  f1-score   support\n",
      "\n",
      "          1       0.89      0.34      0.50      2480\n",
      "          5       0.93      0.99      0.96     21036\n",
      "\n",
      "avg / total       0.92      0.93      0.91     23516\n",
      "\n"
     ]
    }
   ],
   "source": [
    "print(\"Confusion Matrix for KNN:\")\n",
    "print(confusion_matrix(y_test,y_predicted_xgb))\n",
    "print()\n",
    "print(\"Classification Report:\")\n",
    "print(classification_report(y_test,y_predicted_xgb))"
   ]
  },
  {
   "cell_type": "markdown",
   "metadata": {},
   "source": [
    "###### MULTILAYER PERCEPTRON CLASSIFIER"
   ]
  },
  {
   "cell_type": "code",
   "execution_count": 22,
   "metadata": {},
   "outputs": [],
   "source": [
    "from sklearn.neural_network import MLPClassifier\n",
    "\n",
    "mlp_clf = MLPClassifier()\n",
    "#fit the model\n",
    "mlp_clf.fit(x_train,y_train)\n",
    "#predict the output\n",
    "y_predicted_mlp = mlp_clf.predict(x_test)"
   ]
  },
  {
   "cell_type": "code",
   "execution_count": 23,
   "metadata": {},
   "outputs": [
    {
     "name": "stdout",
     "output_type": "stream",
     "text": [
      "Confusion Matrix for KNN:\n",
      "[[ 2116   364]\n",
      " [  288 20748]]\n",
      "\n",
      "Classification Report:\n",
      "             precision    recall  f1-score   support\n",
      "\n",
      "          1       0.88      0.85      0.87      2480\n",
      "          5       0.98      0.99      0.98     21036\n",
      "\n",
      "avg / total       0.97      0.97      0.97     23516\n",
      "\n"
     ]
    }
   ],
   "source": [
    "print(\"Confusion Matrix for KNN:\")\n",
    "print(confusion_matrix(y_test,y_predicted_mlp))\n",
    "print()\n",
    "print(\"Classification Report:\")\n",
    "print(classification_report(y_test,y_predicted_mlp))"
   ]
  },
  {
   "cell_type": "code",
   "execution_count": null,
   "metadata": {},
   "outputs": [],
   "source": [
    "# POSITIVE REVIEW\n",
    "pr = epinion_data['cleaned_review'][0]\n",
    "print(pr)\n",
    "print(\"Actual Rating: \",epinion_data['stars'][0])\n",
    "pr_t = vocab.transform([pr])\n",
    "print(\"Predicted Rating:\")\n",
    "mnb.predict(pr_t)[0]\n",
    "\n",
    "# pr = epinion_data['cleaned_review'][995]\n",
    "# print(pr)\n",
    "# print(\"Actual Rating: \",epinion_data['stars'][995])\n",
    "# pr_t = vocab.transform([pr])\n",
    "# print(\"Predicted Rating:\")\n",
    "# xgb.predict(pr_t)[0]\n",
    "\n",
    "\n",
    "# pr = epinion_data['cleaned_review'][1]\n",
    "# print(pr)\n",
    "# print(\"Actual Rating: \",epinion_data['stars'][1])\n",
    "# pr_t = vocab.transform([pr])\n",
    "# print(\"Predicted Rating:\")\n",
    "# xgb.predict(pr_t)[0]"
   ]
  },
  {
   "cell_type": "markdown",
   "metadata": {},
   "source": [
    "#### Feature Engineering using TF-IDF:\n",
    "\n",
    "- In the BoW model which is known as TF, we just count the number of words occurred in each review, we will end up giving more weight to longer length review. \n",
    "- IDF(Inverse Document Frequency) measures the amount of information a given word provides across that review. \n",
    "- IDF is the logarithmically scaled inverse ratio of the number of review that contain the word and the total number of reviews.\n",
    "- TF-IDF(Term Frequency-Inverse Document Frequency) normalizes the document term matrix. \n",
    "- It is the product of TF and IDF. \n",
    "- Word with high tf-idf in a document, it is most of the times occurred in given documents and must be absent in the other documents. So the words must be a signature word.\n",
    "\n"
   ]
  },
  {
   "cell_type": "code",
   "execution_count": 10,
   "metadata": {},
   "outputs": [],
   "source": [
    "from sklearn.feature_extraction.text import TfidfVectorizer\n",
    "tf=TfidfVectorizer()\n",
    "\n",
    "# Seperate the dataset into X and Y for prediction\n",
    "x = epinion_class['cleaned_review']\n",
    "y = epinion_class['sentiment']\n",
    "\n",
    "X = tf.fit_transform(x)\n",
    "X_train, X_test, y_train, y_test = train_test_split(X, y,test_size=0.3,random_state=101)"
   ]
  },
  {
   "cell_type": "code",
   "execution_count": 11,
   "metadata": {},
   "outputs": [
    {
     "name": "stdout",
     "output_type": "stream",
     "text": [
      "('MultinomialNB Accuracy:', 0.8935446375414623)\n"
     ]
    },
    {
     "name": "stderr",
     "output_type": "stream",
     "text": [
      "//anaconda2/lib/python2.7/site-packages/sklearn/ensemble/forest.py:246: FutureWarning: The default value of n_estimators will change from 10 in version 0.20 to 100 in 0.22.\n",
      "  \"10 in version 0.20 to 100 in 0.22.\", FutureWarning)\n"
     ]
    },
    {
     "name": "stdout",
     "output_type": "stream",
     "text": [
      "('Random Forest Accuracy:', 0.9152326141808181)\n",
      "('Decision Tree Accuracy:', 0.9121140815921527)\n",
      "('SVM Accuracy:', 0.9154594165509029)\n",
      "('KNN Accuracy:', 0.9152042638845576)\n"
     ]
    }
   ],
   "source": [
    "\n",
    "from sklearn.naive_bayes import MultinomialNB\n",
    "# Multinomial Naive Bayes\n",
    "clf = MultinomialNB().fit(X_train, y_train)\n",
    "mn_predicted= clf.predict(X_test)\n",
    "print(\"MultinomialNB Accuracy:\",metrics.accuracy_score(y_test, mn_predicted))\n",
    "\n",
    "#Random Forest\n",
    "rf_clf = RandomForestClassifier().fit(X_train, y_train)\n",
    "rf_predicted= rf_clf.predict(X_test)\n",
    "print(\"Random Forest Accuracy:\",metrics.accuracy_score(y_test, rf_predicted))\n",
    "\n",
    "#Decision Tree\n",
    "dt_clf = RandomForestClassifier().fit(X_train, y_train)\n",
    "dt_predicted= dt_clf.predict(X_test)\n",
    "print(\"Decision Tree Accuracy:\",metrics.accuracy_score(y_test, dt_predicted))\n",
    "\n",
    "\n",
    "#SVM\n",
    "svm_clf = RandomForestClassifier().fit(X_train, y_train)\n",
    "svm_predicted= svm_clf.predict(X_test)\n",
    "print(\"SVM Accuracy:\",metrics.accuracy_score(y_test, svm_predicted))\n",
    "\n",
    "\n",
    "# K Nearest Neighbour Algorithm\n",
    "knn_clf = RandomForestClassifier().fit(X_train, y_train)\n",
    "knn_predicted= knn_clf.predict(X_test)\n",
    "print(\"KNN Accuracy:\",metrics.accuracy_score(y_test, knn_predicted))\n"
   ]
  },
  {
   "cell_type": "markdown",
   "metadata": {},
   "source": [
    "##### Comparison of all algorithms on RMSE : Using Count Vectorizer"
   ]
  },
  {
   "cell_type": "code",
   "execution_count": 27,
   "metadata": {},
   "outputs": [
    {
     "data": {
      "image/png": "[encoded data removed]",
      "text/plain": [
       "<Figure size 1440x360 with 1 Axes>"
      ]
     },
     "metadata": {},
     "output_type": "display_data"
    }
   ],
   "source": [
    "algos = ['MNB', 'Random Forest', 'Decision Tree', 'SVM', 'KNN','Xgboost', 'MNP' ]\n",
    "y_pred = [y_predicted_mnb, y_predicted_rf, y_predicted_dt, y_predicted_svc, y_predicted_knn, y_predicted_xgb, y_predicted_mlp]\n",
    "\n",
    "    \n",
    "accuracy = [round(accuracy_score(y_test,y)*100,2) for y in y_pred]\n",
    "plt.figure(figsize=(20,5))\n",
    "\n",
    "plt.subplot(1, 2, 1)\n",
    "plt.title('Comparison of Algorithms on Accuracy using Count Vectorizer', loc='center', fontsize=15)\n",
    "plt.plot(algos, accuracy, label='Accuracy', color='darkgreen', marker='o')\n",
    "plt.xlabel('Algorithms', fontsize=15)\n",
    "plt.ylabel('Accuracy', fontsize=15)\n",
    "plt.legend()\n",
    "plt.grid(ls='dashed')\n",
    "\n",
    "plt.show()"
   ]
  },
  {
   "cell_type": "markdown",
   "metadata": {},
   "source": [
    "##### Comparison of all algorithms on RMSE : Using TF-IDF"
   ]
  },
  {
   "cell_type": "code",
   "execution_count": 12,
   "metadata": {},
   "outputs": [
    {
     "data": {
      "image/png": "[encoded data removed]",
      "text/plain": [
       "<Figure size 1440x360 with 1 Axes>"
      ]
     },
     "metadata": {},
     "output_type": "display_data"
    }
   ],
   "source": [
    "algos = ['MNB', 'Random Forest', 'Decision Tree', 'SVM', 'KNN']\n",
    "y_pred = [mn_predicted, rf_predicted, dt_predicted, svm_predicted, knn_predicted]\n",
    "\n",
    "    \n",
    "accuracy = [round(accuracy_score(y_test,y)*100,2) for y in y_pred]\n",
    "plt.figure(figsize=(20,5))\n",
    "\n",
    "plt.subplot(1, 2, 1)\n",
    "plt.title('Comparison of Algorithms on Accuracy using TF-IDF', loc='center', fontsize=15)\n",
    "plt.plot(algos, accuracy, label='Accuracy', color='darkgreen', marker='o')\n",
    "plt.xlabel('Algorithms', fontsize=15)\n",
    "plt.ylabel('Accuracy', fontsize=15)\n",
    "plt.legend()\n",
    "plt.grid(ls='dashed')\n",
    "\n",
    "plt.show()"
   ]
  },
  {
   "cell_type": "markdown",
   "metadata": {},
   "source": [
    "##### What we learnt:\n",
    "- We learnt what Text Analytics is\n",
    "- NLP and text mining.\n",
    "- Basics of text analytics operations using NLTK such as Tokenization, Normalization, Stemming, Lemmatization and Part of speeach tagging. \n",
    "- What is sentiment analysis and text classification."
   ]
  },
  {
   "cell_type": "markdown",
   "metadata": {},
   "source": [
    "https://www.kaggle.com/omkarsabnis/sentiment-analysis-on-the-yelp-reviews-dataset\n",
    "\n",
    "\n",
    "https://github.com/labdhi-ghelani/Sentiment-analysis-for-Yelp-review-classification/blob/master/Sentiment-analysis-for-Yelp-review-classification.ipynb\n",
    "\n",
    "\n",
    "https://www.kaggle.com/suzanaiacob/sentiment-analysis-of-the-yelp-reviews-data\n"
   ]
  }
 ],
 "metadata": {
  "kernelspec": {
   "display_name": "Python 2",
   "language": "python",
   "name": "python2"
  },
  "language_info": {
   "codemirror_mode": {
    "name": "ipython",
    "version": 2
   },
   "file_extension": ".py",
   "mimetype": "text/x-python",
   "name": "python",
   "nbconvert_exporter": "python",
   "pygments_lexer": "ipython2",
   "version": "2.7.16"
  }
 },
 "nbformat": 4,
 "nbformat_minor": 2
}
