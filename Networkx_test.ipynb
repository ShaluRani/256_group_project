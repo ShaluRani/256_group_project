{
 "cells": [
  {
   "cell_type": "code",
   "execution_count": 2,
   "metadata": {},
   "outputs": [],
   "source": [
    "filepath = 'Dataset/network_trust.txt'\n",
    "import pandas as pd\n",
    "df = pd.read_csv(filepath, sep = '\\s+', header = None, names=['user1','trust','user2'])"
   ]
  },
  {
   "cell_type": "code",
   "execution_count": 3,
   "metadata": {},
   "outputs": [
    {
     "data": {
      "text/html": [
       "<div>\n",
       "<style scoped>\n",
       "    .dataframe tbody tr th:only-of-type {\n",
       "        vertical-align: middle;\n",
       "    }\n",
       "\n",
       "    .dataframe tbody tr th {\n",
       "        vertical-align: top;\n",
       "    }\n",
       "\n",
       "    .dataframe thead th {\n",
       "        text-align: right;\n",
       "    }\n",
       "</style>\n",
       "<table border=\"1\" class=\"dataframe\">\n",
       "  <thead>\n",
       "    <tr style=\"text-align: right;\">\n",
       "      <th></th>\n",
       "      <th>user1</th>\n",
       "      <th>trust</th>\n",
       "      <th>user2</th>\n",
       "    </tr>\n",
       "  </thead>\n",
       "  <tbody>\n",
       "    <tr>\n",
       "      <th>0</th>\n",
       "      <td>lavenderfruit</td>\n",
       "      <td>trust</td>\n",
       "      <td>kristinafh</td>\n",
       "    </tr>\n",
       "    <tr>\n",
       "      <th>1</th>\n",
       "      <td>shippo225</td>\n",
       "      <td>trust</td>\n",
       "      <td>sallyg8</td>\n",
       "    </tr>\n",
       "    <tr>\n",
       "      <th>2</th>\n",
       "      <td>aryeh7000</td>\n",
       "      <td>trust</td>\n",
       "      <td>liteair</td>\n",
       "    </tr>\n",
       "    <tr>\n",
       "      <th>3</th>\n",
       "      <td>chiquita</td>\n",
       "      <td>trust</td>\n",
       "      <td>magenta321</td>\n",
       "    </tr>\n",
       "    <tr>\n",
       "      <th>4</th>\n",
       "      <td>jeffsullivan</td>\n",
       "      <td>trust</td>\n",
       "      <td>rpllingrock</td>\n",
       "    </tr>\n",
       "  </tbody>\n",
       "</table>\n",
       "</div>"
      ],
      "text/plain": [
       "           user1  trust        user2\n",
       "0  lavenderfruit  trust   kristinafh\n",
       "1      shippo225  trust      sallyg8\n",
       "2      aryeh7000  trust      liteair\n",
       "3       chiquita  trust   magenta321\n",
       "4   jeffsullivan  trust  rpllingrock"
      ]
     },
     "execution_count": 3,
     "metadata": {},
     "output_type": "execute_result"
    }
   ],
   "source": [
    "df.head()"
   ]
  },
  {
   "cell_type": "code",
   "execution_count": 4,
   "metadata": {},
   "outputs": [],
   "source": [
    "import networkx as nw"
   ]
  },
  {
   "cell_type": "code",
   "execution_count": 24,
   "metadata": {},
   "outputs": [],
   "source": [
    "G = nw.from_pandas_edgelist(df, 'user1', 'user2')"
   ]
  },
  {
   "cell_type": "code",
   "execution_count": 25,
   "metadata": {},
   "outputs": [],
   "source": [
    "for index, row in df.iterrows():\n",
    "    G.add_edge(row['user1'], row['user2'])"
   ]
  },
  {
   "cell_type": "code",
   "execution_count": 7,
   "metadata": {},
   "outputs": [
    {
     "data": {
      "text/plain": [
       "user1    54787\n",
       "trust        1\n",
       "user2    60883\n",
       "dtype: int64"
      ]
     },
     "execution_count": 7,
     "metadata": {},
     "output_type": "execute_result"
    }
   ],
   "source": [
    "df.nunique()"
   ]
  },
  {
   "cell_type": "code",
   "execution_count": null,
   "metadata": {},
   "outputs": [],
   "source": [
    "pos = nw.spring_layout(G)"
   ]
  },
  {
   "cell_type": "code",
   "execution_count": null,
   "metadata": {},
   "outputs": [],
   "source": [
    "# Figure Dimensions\n",
    "value_height=9\n",
    "value_width=16\n",
    "matplotlib.rcParams['figure.figsize']=[12, 8]"
   ]
  },
  {
   "cell_type": "code",
   "execution_count": null,
   "metadata": {},
   "outputs": [],
   "source": [
    "# Drawing the graph\n",
    "nw.draw_networkx_nodes(G, pos, with_labels=True, node_size=50,font_size=7,node_color='green', label='Participants')\n",
    "nw.draw_networkx_edges(G, pos, with_labels=False, width=2.0,label='Number of Messages')\n",
    "plt.title('Node Graph for Communications Data', fontsize=22, fontname='Arial')\n",
    "plt.box(on=None)\n",
    "plt.axis('off')\n",
    "plt.legend(bbox_to_anchor=(1, 0), loc='best', ncol=1)\n",
    "plt.savefig('base.png', dpi=400)"
   ]
  },
  {
   "cell_type": "code",
   "execution_count": null,
   "metadata": {},
   "outputs": [],
   "source": [
    "# Calculating Centrality metrics for the Graph\n",
    "\n",
    "dict_degree_centrality = nw.degree_centrality(G)\n",
    "dict_closeness_centrality = nw.closeness_centrality(G)\n",
    "dict_eigenvector_centrality = nw.eigenvector_centrality(G)"
   ]
  },
  {
   "cell_type": "code",
   "execution_count": null,
   "metadata": {},
   "outputs": [],
   "source": [
    "# Top 10 nodes with the largest values of degree centrality in descending order\n",
    "dict(Counter(dict_degree_centrality).most_common(10))\n",
    "\n",
    "# Top 10 nodes with the largest values of closeness centrality in descending order\n",
    "dict(Counter(dict_closeness_centrality).most_common(10))\n",
    "\n",
    "# Top 10 nodes with the largest values of eigenvector centrality in descending order\n",
    "dict(Counter(dict_eigenvector_centrality).most_common(10))\n",
    "\n",
    "# Function to plot the graphs for each centrality metric\n",
    "matplotlib.rcParams['figure.figsize']= [24, 8]\n",
    "def draw(G, pos, lista, listb, measure_name):\n",
    "    nodes=nw.draw_networkx_nodes(G, pos, node_size=100, cmap=plt.cm.viridis,node_color=lista,nodelist=listb)\n",
    "    nodes.set_norm(mcolors.SymLogNorm(linthresh=0.01, linscale=1))\n",
    "    edges=nw.draw_networkx_edges(G, pos)\n",
    "    plt.title(measure_name, fontsize=22, fontname='Arial')\n",
    "    plt.colorbar(nodes)\n",
    "    plt.axis('off')\n",
    "\n",
    "plt.subplot(1,3,1)\n",
    "list_pos_values = []\n",
    "for i in nw.degree_centrality(G).values():\n",
    "    list_pos_values.append(i)\n",
    "    list_pos_keys=[]\n",
    "for i in nw.degree_centrality(G).keys():\n",
    "    list_pos_keys.append(i)\n",
    "draw(G, pos, list_pos_values, list_pos_keys, 'Degree Centrality')"
   ]
  },
  {
   "cell_type": "code",
   "execution_count": null,
   "metadata": {},
   "outputs": [],
   "source": []
  }
 ],
 "metadata": {
  "kernelspec": {
   "display_name": "Python 3",
   "language": "python",
   "name": "python3"
  },
  "language_info": {
   "codemirror_mode": {
    "name": "ipython",
    "version": 3
   },
   "file_extension": ".py",
   "mimetype": "text/x-python",
   "name": "python",
   "nbconvert_exporter": "python",
   "pygments_lexer": "ipython3",
   "version": "3.7.2"
  }
 },
 "nbformat": 4,
 "nbformat_minor": 2
}
